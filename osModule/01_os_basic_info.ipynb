{
 "cells": [
  {
   "cell_type": "markdown",
   "metadata": {},
   "source": [
    "# The OS module\n",
    " This module provides a portable way of using operating system dependent functionality."
   ]
  },
  {
   "cell_type": "code",
   "execution_count": 1,
   "metadata": {},
   "outputs": [],
   "source": [
    "# We must first import the os module\n",
    "import os"
   ]
  },
  {
   "cell_type": "markdown",
   "metadata": {},
   "source": [
    "### os.name\n",
    "os.name gives information about the system you are running on.\n",
    "it returns one of the followoing values. ‘posix’, ‘nt’, ‘os2’, ‘ce’, ‘java’, ‘riscos’\n",
    "### os.environ\n",
    "The os.environ value is known as a mapping object that returns a dictionary of the user’s environment variables. since it returns a dictionary, it can be indexed, otherwise, we can use **os.getenv()** to get the value of the the key we provide. there is also the **os.putenv()** for modifying the mapping."
   ]
  },
  {
   "cell_type": "code",
   "execution_count": 1,
   "metadata": {},
   "outputs": [
    {
     "name": "stdout",
     "output_type": "stream",
     "text": [
      "posix\n"
     ]
    }
   ],
   "source": [
    "print(os.name)"
   ]
  },
  {
   "cell_type": "code",
   "execution_count": 4,
   "metadata": {},
   "outputs": [
    {
     "name": "stdout",
     "output_type": "stream",
     "text": [
      "environ({'ELECTRON_RUN_AS_NODE': '1', 'GJS_DEBUG_TOPICS': 'JS ERROR;JS LOG', 'USER': 'carlson', 'SSH_AGENT_PID': '4414', 'XDG_SESSION_TYPE': 'x11', 'SHLVL': '1', 'HOME': '/home/carlson', 'DESKTOP_SESSION': 'ubuntu', 'GIO_LAUNCHED_DESKTOP_FILE': '/usr/share/applications/code.desktop', 'GTK_MODULES': 'gail:atk-bridge', 'GNOME_SHELL_SESSION_MODE': 'ubuntu', 'MANAGERPID': '4233', 'DBUS_SESSION_BUS_ADDRESS': 'unix:path=/run/user/1000/bus', 'GIO_LAUNCHED_DESKTOP_FILE_PID': '11122', 'IM_CONFIG_PHASE': '1', 'LOGNAME': 'carlson', '_': '/home/carlson/anaconda3/bin/python', 'JOURNAL_STREAM': '8:50486', 'XDG_SESSION_CLASS': 'user', 'USERNAME': 'carlson', 'GNOME_DESKTOP_SESSION_ID': 'this-is-deprecated', 'WINDOWPATH': '2', 'PATH': '/home/carlson/anaconda3/bin:/home/carlson/anaconda3/bin:/home/carlson/anaconda3/condabin:/usr/local/sbin:/usr/local/bin:/usr/sbin:/usr/bin:/sbin:/bin:/usr/games:/usr/local/games:/snap/bin', 'SESSION_MANAGER': 'local/C-Ubuntu:@/tmp/.ICE-unix/4450,unix/C-Ubuntu:/tmp/.ICE-unix/4450', 'INVOCATION_ID': '56265b342bd441c6b76c6752d336dded', 'XDG_RUNTIME_DIR': '/run/user/1000', 'XDG_MENU_PREFIX': 'gnome-', 'DISPLAY': ':0', 'LANG': 'en_US.UTF-8', 'XDG_CURRENT_DESKTOP': 'Unity', 'XAUTHORITY': '/run/user/1000/gdm/Xauthority', 'XDG_SESSION_DESKTOP': 'ubuntu', 'XMODIFIERS': '@im=ibus', 'SSH_AUTH_SOCK': '/run/user/1000/keyring/ssh', 'SHELL': '/bin/bash', 'QT_ACCESSIBILITY': '1', 'GDMSESSION': 'ubuntu', 'GPG_AGENT_INFO': '/run/user/1000/gnupg/S.gpg-agent:0:1', 'GJS_DEBUG_OUTPUT': 'stderr', 'QT_IM_MODULE': 'ibus', 'PWD': '/home/carlson', 'XDG_DATA_DIRS': '/usr/share/ubuntu:/usr/local/share/:/usr/share/:/var/lib/snapd/desktop', 'XDG_CONFIG_DIRS': '/etc/xdg/xdg-ubuntu:/etc/xdg', 'CHROME_DESKTOP': 'code-url-handler.desktop', 'ORIGINAL_XDG_CURRENT_DESKTOP': 'ubuntu:GNOME', 'VSCODE_CWD': '/home/carlson', 'GDK_BACKEND': 'x11', 'VSCODE_NLS_CONFIG': '{\"locale\":\"en-us\",\"availableLanguages\":{},\"_languagePackSupport\":true}', 'VSCODE_CODE_CACHE_PATH': '/home/carlson/.config/Code/CachedData/c3511e6c69bb39013c4a4b7b9566ec1ca73fc4d5', 'VSCODE_IPC_HOOK': '/run/user/1000/vscode-83788d98-1.67.2-main.sock', 'VSCODE_PID': '11122', 'VSCODE_AMD_ENTRYPOINT': 'vs/workbench/api/node/extensionHostProcess', 'VSCODE_PIPE_LOGGING': 'true', 'VSCODE_VERBOSE_LOGGING': 'true', 'VSCODE_LOG_NATIVE': 'false', 'VSCODE_IPC_HOOK_EXTHOST': '/run/user/1000/vscode-ipc-393c90bb-8916-44cd-89aa-2dd5904785fa.sock', 'VSCODE_HANDLES_UNCAUGHT_ERRORS': 'true', 'VSCODE_LOG_STACK': 'false', 'APPLICATION_INSIGHTS_NO_DIAGNOSTIC_CHANNEL': '1', 'PYTHONUNBUFFERED': '1', 'CONDA_EXE': '/home/carlson/anaconda3/bin/conda', '_CE_M': '', 'CONDA_ROOT': '/home/carlson/anaconda3', 'CONDA_PREFIX': '/home/carlson/anaconda3', 'CONDA_PROMPT_MODIFIER': '(base) ', '_CE_CONDA': '', 'PYTHONIOENCODING': 'utf-8', 'CONDA_SHLVL': '1', 'CONDA_PYTHON_EXE': '/home/carlson/anaconda3/bin/python', 'CONDA_DEFAULT_ENV': 'base', 'PYTHONNOUSERSITE': 'True', 'TERM': 'xterm-color', 'CLICOLOR': '1', 'PAGER': 'cat', 'GIT_PAGER': 'cat', 'MPLBACKEND': 'module://ipykernel.pylab.backend_inline'})\n"
     ]
    }
   ],
   "source": [
    "print(os.environ)"
   ]
  },
  {
   "cell_type": "code",
   "execution_count": 2,
   "metadata": {},
   "outputs": [
    {
     "data": {
      "text/plain": [
       "'/home/carlson'"
      ]
     },
     "execution_count": 2,
     "metadata": {},
     "output_type": "execute_result"
    }
   ],
   "source": [
    "os.getenv(\"PWD\")\n",
    "## os.environ[\"PWD\"]  will return thesame results as os.getenv(\"PWD\")\n"
   ]
  },
  {
   "cell_type": "code",
   "execution_count": 5,
   "metadata": {},
   "outputs": [
    {
     "name": "stdout",
     "output_type": "stream",
     "text": [
      "/home/carlson\n"
     ]
    }
   ],
   "source": [
    "os.putenv(\"PWD\", \"/home/carlson/Documents\") ## calling os.putenv directly does not change os.environ. \n",
    "print(os.environ[\"PWD\"]) "
   ]
  },
  {
   "cell_type": "code",
   "execution_count": null,
   "metadata": {},
   "outputs": [],
   "source": []
  }
 ],
 "metadata": {
  "interpreter": {
   "hash": "1736df6a7dfdf64c224f14593768c7974338ca65bb2fb0d6b90b526b6c35999f"
  },
  "kernelspec": {
   "display_name": "Python 3.8.8 ('base')",
   "language": "python",
   "name": "python3"
  },
  "language_info": {
   "codemirror_mode": {
    "name": "ipython",
    "version": 3
   },
   "file_extension": ".py",
   "mimetype": "text/x-python",
   "name": "python",
   "nbconvert_exporter": "python",
   "pygments_lexer": "ipython3",
   "version": "3.8.8"
  },
  "orig_nbformat": 4
 },
 "nbformat": 4,
 "nbformat_minor": 2
}
