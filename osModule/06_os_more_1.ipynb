{
 "cells": [
  {
   "cell_type": "markdown",
   "metadata": {},
   "source": [
    "### os.uname()\n",
    "returns information identifying current operating system.<br>\n",
    "returns an object with five attributes; <br>\n",
    "    <ol>\n",
    "    <li>sysname - operating system name</li>\n",
    "    <li>nodename - name of machine on network (implementation-defined)</li>\n",
    "    <li>release - operating system release</li>\n",
    "    <li>version - operating system version</li>\n",
    "    <li>machine - hardware identifier</li>\n",
    "    </ol>\n"
   ]
  },
  {
   "cell_type": "code",
   "execution_count": 1,
   "metadata": {},
   "outputs": [
    {
     "data": {
      "text/plain": [
       "posix.uname_result(sysname='Linux', nodename='C-Ubuntu', release='5.13.0-39-generic', version='#44~20.04.1-Ubuntu SMP Thu Mar 24 16:43:35 UTC 2022', machine='x86_64')"
      ]
     },
     "execution_count": 1,
     "metadata": {},
     "output_type": "execute_result"
    }
   ],
   "source": [
    "import os\n",
    "\n",
    "os.uname()"
   ]
  },
  {
   "cell_type": "markdown",
   "metadata": {},
   "source": [
    "**the object is iterable, behaving like a tuple with five elements in same order as above**"
   ]
  },
  {
   "cell_type": "code",
   "execution_count": 9,
   "metadata": {},
   "outputs": [
    {
     "name": "stdout",
     "output_type": "stream",
     "text": [
      "Linux\n",
      "C-Ubuntu\n",
      "5.13.0-39-generic\n",
      "#44~20.04.1-Ubuntu SMP Thu Mar 24 16:43:35 UTC 2022\n",
      "x86_64\n"
     ]
    }
   ],
   "source": [
    "for value in os.uname():\n",
    "    print (value)"
   ]
  },
  {
   "cell_type": "markdown",
   "metadata": {},
   "source": [
    "**os.uname is probably available only for recent flavors of unix**"
   ]
  },
  {
   "cell_type": "markdown",
   "metadata": {},
   "source": [
    "### os.listdir()\n",
    "Takes a directory path as argument and returns a list containing the names of the entries. Special entries(\".\", \"..\") are not included"
   ]
  },
  {
   "cell_type": "code",
   "execution_count": 4,
   "metadata": {},
   "outputs": [
    {
     "data": {
      "text/plain": [
       "['livingston essay.odt',\n",
       " 'FMS requirements specifications.odt',\n",
       " 'family tree.odg',\n",
       " 'camschools deadlines.ods',\n",
       " 'camschools requirments specification.odt',\n",
       " '.ipynb_checkpoints',\n",
       " 'family tree.docx',\n",
       " 'reading challenge',\n",
       " 'Mummy Gabiga IT Assignment.odt',\n",
       " 'projects.odt',\n",
       " 'livingston essay.docx',\n",
       " 'family tree.odt',\n",
       " 'HND Marking guide.pdf',\n",
       " 'camschools deadlines.pdf',\n",
       " 'Carson temp.docx',\n",
       " 'HND Marking guide.docx',\n",
       " 'HND Marking guide.odt',\n",
       " 'programming']"
      ]
     },
     "execution_count": 4,
     "metadata": {},
     "output_type": "execute_result"
    }
   ],
   "source": [
    "path = r\"/home/carlson/Documents\"\n",
    "os.listdir(path)"
   ]
  },
  {
   "cell_type": "markdown",
   "metadata": {},
   "source": [
    "### os.replace()\n",
    "renames a file.<br>\n",
    "**note**: *use os.replace instead of os.rename for better cross-platform performance*<br>\n",
    "it takes two parameters. path of source and path of destination.<br>\n",
    "also note that it renames files. not directories."
   ]
  },
  {
   "cell_type": "code",
   "execution_count": 6,
   "metadata": {},
   "outputs": [],
   "source": [
    "source = r\"blanktext.txt\"\n",
    "dest = r\"2022/blanktext_copy.txt\"\n",
    "\n",
    "os.replace(source, dest)\n",
    "## this code renames the file and puts it in a new location"
   ]
  },
  {
   "cell_type": "markdown",
   "metadata": {},
   "source": [
    "### os.scandir()\n",
    "returns an iterator of entries in a given directory. <br>\n",
    "it doesn't include special entries.\n",
    "scandir performs better than listdir. it also provides file type or file attribute information\n",
    "\n",
    "##### scandir has the following method:\n",
    "<b>scandir.close()</b>: closes the iterator and frees acquired resources. while it automamtically called when the iterator is exhausted, it is good practice to call it explicitly or with use of <b>with</b> statement </li>\n",
    "\n",
    "##### scandir yields a DirEntry object for each file/subdirectory in path, (except for special entries ('.' and '..')). Each DirEntry object has the following attrubutes\n",
    "**ATTRIBUTES OF class os.DirEntry**\n",
    "\n",
    "<ul>\n",
    "    <li><b>name</b>: the entry's filename relative to the scandir path. (corresponds to the return values of <em>os.listdir</em></li>\n",
    "    <li><b>path</b>: the entry's full path name (not necessarily an absolute path). it is the equivalent for <em>os.path.join(path, entry.name)</em></li>\n",
    "    <li><b>inode()</b>: returns the inode number of the entry. the result is cached on the DirEntry object. use <em>os.stat(entry.path, follow_symlinks=False).st_ino</em> to fetch up-to-date information</li>\n",
    "    <li><b>is_dir(*, follow_symlinks=True)</b>: checks if entry is a file, from values cached on DirEntry object. To not follow symbolic links, use symlinks=False</li>\n",
    "    <li><b>is_file(*, follow_symlinks=True)</b>: Same as is_dir except it check if entry is a directory</li>\n",
    "    <li><b>is_symlink()</b>:check if path is symbolic link, from values cached on DirEntry object</li>\n",
    "    <li><b>stat(*, follow_symlinks=True)</b>: like os.stat() but returns value cached on DirEntry object</li>\n",
    "\n",
    "</ul>\n"
   ]
  },
  {
   "cell_type": "code",
   "execution_count": 8,
   "metadata": {},
   "outputs": [
    {
     "name": "stdout",
     "output_type": "stream",
     "text": [
      "<DirEntry 'livingston essay.odt'>\n",
      "<DirEntry 'FMS requirements specifications.odt'>\n",
      "<DirEntry 'family tree.odg'>\n",
      "<DirEntry 'camschools deadlines.ods'>\n",
      "<DirEntry 'camschools requirments specification.odt'>\n",
      "<DirEntry '.ipynb_checkpoints'>\n",
      "<DirEntry 'family tree.docx'>\n",
      "<DirEntry 'reading challenge'>\n",
      "<DirEntry 'Mummy Gabiga IT Assignment.odt'>\n",
      "<DirEntry 'projects.odt'>\n",
      "<DirEntry 'livingston essay.docx'>\n",
      "<DirEntry 'family tree.odt'>\n",
      "<DirEntry 'HND Marking guide.pdf'>\n",
      "<DirEntry 'camschools deadlines.pdf'>\n",
      "<DirEntry 'Carson temp.docx'>\n",
      "<DirEntry 'HND Marking guide.docx'>\n",
      "<DirEntry 'HND Marking guide.odt'>\n",
      "<DirEntry 'programming'>\n"
     ]
    }
   ],
   "source": [
    "with os.scandir(path) as _scan:\n",
    "    for entry in _scan:\n",
    "        print(entry)"
   ]
  },
  {
   "cell_type": "code",
   "execution_count": 11,
   "metadata": {},
   "outputs": [
    {
     "name": "stdout",
     "output_type": "stream",
     "text": [
      "livingston essay.odt\n",
      "FMS requirements specifications.odt\n",
      "family tree.odg\n",
      "camschools deadlines.ods\n",
      "camschools requirments specification.odt\n",
      "family tree.docx\n",
      "Mummy Gabiga IT Assignment.odt\n",
      "projects.odt\n",
      "livingston essay.docx\n",
      "family tree.odt\n",
      "HND Marking guide.pdf\n",
      "camschools deadlines.pdf\n",
      "Carson temp.docx\n",
      "HND Marking guide.docx\n",
      "HND Marking guide.odt\n"
     ]
    }
   ],
   "source": [
    "_scan = os.scandir(path)\n",
    "for entry in _scan:\n",
    "    if not entry.name.startswith('.') and entry.is_file():\n",
    "        print(entry.name)\n",
    "_scan.close()"
   ]
  },
  {
   "cell_type": "markdown",
   "metadata": {},
   "source": [
    "### os.stat()\n",
    "gets status of a file or file descriptor"
   ]
  },
  {
   "cell_type": "code",
   "execution_count": 13,
   "metadata": {},
   "outputs": [
    {
     "data": {
      "text/plain": [
       "os.stat_result(st_mode=33204, st_ino=4729501, st_dev=2054, st_nlink=1, st_uid=1000, st_gid=1000, st_size=0, st_atime=1657283878, st_mtime=1657283878, st_ctime=1657359642)"
      ]
     },
     "execution_count": 13,
     "metadata": {},
     "output_type": "execute_result"
    }
   ],
   "source": [
    "_file = \"blanktext.txt\"\n",
    "os.stat(_file)"
   ]
  },
  {
   "cell_type": "code",
   "execution_count": null,
   "metadata": {},
   "outputs": [],
   "source": []
  }
 ],
 "metadata": {
  "interpreter": {
   "hash": "1736df6a7dfdf64c224f14593768c7974338ca65bb2fb0d6b90b526b6c35999f"
  },
  "kernelspec": {
   "display_name": "Python 3.8.8 ('base')",
   "language": "python",
   "name": "python3"
  },
  "language_info": {
   "codemirror_mode": {
    "name": "ipython",
    "version": 3
   },
   "file_extension": ".py",
   "mimetype": "text/x-python",
   "name": "python",
   "nbconvert_exporter": "python",
   "pygments_lexer": "ipython3",
   "version": "3.8.8"
  },
  "orig_nbformat": 4
 },
 "nbformat": 4,
 "nbformat_minor": 2
}
