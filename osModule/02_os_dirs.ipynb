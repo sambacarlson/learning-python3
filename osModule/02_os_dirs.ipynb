{
 "cells": [
  {
   "cell_type": "markdown",
   "metadata": {},
   "source": [
    "### os.chdir()\n",
    "os.chdir() is used to navigate the file system. (just like terminal command 'cd')\n",
    "### os.getcwd()\n",
    "It is called to get the current working directory \n",
    "### os.mkdir()\n",
    "os.mkdir() is used to make a single directory at the current path or specified path.\n",
    "### os.makedirs()\n",
    "It is use to make multiple directories at once (nested)"
   ]
  },
  {
   "cell_type": "code",
   "execution_count": 1,
   "metadata": {},
   "outputs": [],
   "source": [
    "import os"
   ]
  },
  {
   "cell_type": "code",
   "execution_count": 11,
   "metadata": {},
   "outputs": [
    {
     "name": "stdout",
     "output_type": "stream",
     "text": [
      "/home/carlson/Documents/programming/Python OS module\n",
      "/home/carlson/Documents/programming\n"
     ]
    }
   ],
   "source": [
    "## EXAMPLE: getcwd() and chdir()\n",
    "path = os.getcwd()\n",
    "print(path)\n",
    "new_path = r\"/home/carlson/Documents/programming\"\n",
    "os.chdir(new_path)\n",
    "print(os.getcwd())"
   ]
  },
  {
   "cell_type": "code",
   "execution_count": 14,
   "metadata": {},
   "outputs": [],
   "source": [
    "## EXAMPLE: mkdir()\n",
    "pwd = r\"/home/carlson/Documents/programming/Python OS module\" ## just making sure I know the present working directory\n",
    "os.mkdir(\"new dir\") ## a folder named \"new dir\" is created in the current working directory\n",
    "## if the folder exists already, you will get a FileExistError when you try to create it.\n",
    "## you can only create directories where you have permission to.\n",
    "path = r\"/home/carlson/Documents/programming/Python OS module/new dir1\"\n",
    "os.mkdir(path) # will create a directory named \"new dir1\""
   ]
  },
  {
   "cell_type": "code",
   "execution_count": 16,
   "metadata": {},
   "outputs": [],
   "source": [
    "## EXAMPLE: makedirs()\n",
    "os.makedirs(\"/home/carlson/Documents/programming/Python OS module/2022/July/08\")\n",
    "## it creates directories from where it doesn't already exist. so the above should create 3 directories nested."
   ]
  },
  {
   "cell_type": "code",
   "execution_count": null,
   "metadata": {},
   "outputs": [],
   "source": []
  }
 ],
 "metadata": {
  "interpreter": {
   "hash": "1736df6a7dfdf64c224f14593768c7974338ca65bb2fb0d6b90b526b6c35999f"
  },
  "kernelspec": {
   "display_name": "Python 3.8.8 ('base')",
   "language": "python",
   "name": "python3"
  },
  "language_info": {
   "codemirror_mode": {
    "name": "ipython",
    "version": 3
   },
   "file_extension": ".py",
   "mimetype": "text/x-python",
   "name": "python",
   "nbconvert_exporter": "python",
   "pygments_lexer": "ipython3",
   "version": "3.8.8"
  },
  "orig_nbformat": 4
 },
 "nbformat": 4,
 "nbformat_minor": 2
}
