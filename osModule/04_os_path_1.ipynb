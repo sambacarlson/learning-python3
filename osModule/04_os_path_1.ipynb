{
 "cells": [
  {
   "cell_type": "markdown",
   "metadata": {},
   "source": [
    "## os.path"
   ]
  },
  {
   "cell_type": "markdown",
   "metadata": {},
   "source": [
    "### os.path.basename()\n",
    "Returns just the filename (or dir name) of the path (not the enitire path)\n",
    "### os.path.dirname()\n",
    "Returns path to the parent of the child-most file/dir\n",
    "### os.path.exists()\n",
    "returns True of False when called to check whether or not a path exists\n",
    "### os.path.isdir() and os.path.isfile()\n",
    "these two, respectively, check given path points to a directory or a file and returns True or False accordingly"
   ]
  },
  {
   "cell_type": "code",
   "execution_count": 8,
   "metadata": {},
   "outputs": [
    {
     "data": {
      "text/plain": [
       "True"
      ]
     },
     "execution_count": 8,
     "metadata": {},
     "output_type": "execute_result"
    }
   ],
   "source": [
    "# EXAMPLES\n",
    "import os\n",
    "\n",
    "my_path = r\"/home/carlson/Documents/programming/Python OS module\"\n",
    "# basename\n",
    "os.path.basename(my_path)\n",
    "\n",
    "# dirname\n",
    "os.path.dirname(my_path)\n",
    "\n",
    "# exits\n",
    "os.path.exists(my_path)\n",
    "\n",
    "# isdir\n",
    "os.path.isdir(my_path)\n",
    "\n",
    "# isfile\n",
    "os.path.isfile(f\"{my_path}/blanktext.txt\")\n",
    "\n",
    "## only the result of the last operation is printed because we haven't used print statments in the code."
   ]
  },
  {
   "cell_type": "code",
   "execution_count": null,
   "metadata": {},
   "outputs": [],
   "source": []
  }
 ],
 "metadata": {
  "interpreter": {
   "hash": "1736df6a7dfdf64c224f14593768c7974338ca65bb2fb0d6b90b526b6c35999f"
  },
  "kernelspec": {
   "display_name": "Python 3.8.8 ('base')",
   "language": "python",
   "name": "python3"
  },
  "language_info": {
   "codemirror_mode": {
    "name": "ipython",
    "version": 3
   },
   "file_extension": ".py",
   "mimetype": "text/x-python",
   "name": "python",
   "nbconvert_exporter": "python",
   "pygments_lexer": "ipython3",
   "version": "3.8.8"
  },
  "orig_nbformat": 4
 },
 "nbformat": 4,
 "nbformat_minor": 2
}
