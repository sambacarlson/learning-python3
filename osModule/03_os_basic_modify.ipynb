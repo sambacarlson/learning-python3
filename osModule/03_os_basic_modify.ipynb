{
 "cells": [
  {
   "cell_type": "markdown",
   "metadata": {},
   "source": [
    "### os.remove()\n",
    "used for deleting files\n",
    "you will receive an error if file cannot be found or if is in use(if it is locked),  or if you don't have permission to delete it. there is also **os.unlink()** which basically does the same thing as os.remove()\n",
    "### os.rmdir()\n",
    "operates just like os.remove() except it is used for deleting directories\n",
    "use **os.removedirs** to remove nested empty directories recursively\n",
    "### os.rename()\n",
    "os.rename(\"src\", \"dst\") is used to rename files. it takes two parameters, source and destination\n",
    "there is also **os.renames()** that recursively renames a file or directory.\n",
    "*note: recursive commands allow you to modify directories and their contents with a single command.*\n",
    "### os.startfile()\n",
    "allows us to start a file with its associated program.\n",
    "### os.walk()\n",
    "os.walk gives us a way to iterate over root level path. that is, it takes a path and give us access to all the files and directories present in that path.\n",
    "\n",
    "**note that for all these functions, you will get exceptions if the file/directory is missing, in use or if you don't have permission to modify them**"
   ]
  },
  {
   "cell_type": "code",
   "execution_count": 1,
   "metadata": {},
   "outputs": [],
   "source": [
    "# EXAMPLES\n",
    "import os\n",
    "\n",
    "## os.remove\n",
    "os.remove(\"blanktext.txt\")\n"
   ]
  },
  {
   "cell_type": "code",
   "execution_count": 2,
   "metadata": {},
   "outputs": [],
   "source": [
    "# os.rmdir\n",
    "os.rmdir(\"2022/July/08\") ##relative path to 08 directory "
   ]
  },
  {
   "cell_type": "code",
   "execution_count": 6,
   "metadata": {},
   "outputs": [],
   "source": [
    "# os.renames\n",
    "os.renames(\"2022/July/08\", \"2022/July/8\" )\n",
    "os.renames(\"2022\", \"22\")"
   ]
  },
  {
   "cell_type": "code",
   "execution_count": 4,
   "metadata": {},
   "outputs": [],
   "source": [
    "# os.walk\n",
    "## os.walk returns three things; root, dirs and files\n",
    "path = r\"/home/carlson/Documents/programming/Python OS module\"\n",
    "for a, b, c in os.walk(path):\n",
    "    print(a) ## roots\n",
    "    print(b) ## directories\n",
    "    print(c) ## files\n"
   ]
  },
  {
   "cell_type": "code",
   "execution_count": 18,
   "metadata": {},
   "outputs": [
    {
     "name": "stdout",
     "output_type": "stream",
     "text": [
      "03_os.ipynb\n",
      "01_os.ipynb\n",
      "blanktext.txt\n",
      "02_os.ipynb\n",
      "03_os.ipynb\n",
      "01_os.ipynb\n",
      "blanktext.txt\n",
      "02_os.ipynb\n"
     ]
    }
   ],
   "source": [
    "## lets loop over every directory and see the files.\n",
    "path = r\"/home/carlson/Documents/programming/Python OS module\"\n",
    "\n",
    "for root, dirs, files in os.walk(path):\n",
    "    for _dir in dirs:\n",
    "        for _file in files:\n",
    "            print(_file)\n"
   ]
  },
  {
   "cell_type": "code",
   "execution_count": 10,
   "metadata": {},
   "outputs": [],
   "source": [
    "# os.startfile\n",
    "path = r\"/home/carlson\"\n",
    "os.startfile(f\"{path}/Documents/projects.odt\") \n",
    "## startfile is available only for windows. so running this code on a different platform will throw an Attribute Error exception"
   ]
  },
  {
   "cell_type": "markdown",
   "metadata": {},
   "source": [
    "#### alternative file opener for linux\n",
    "Note that os.startfile is windows-only attribute of module os. <br>\n",
    "there is (as of now) no single cross platform method for opening files"
   ]
  },
  {
   "cell_type": "code",
   "execution_count": 9,
   "metadata": {},
   "outputs": [
    {
     "data": {
      "text/plain": [
       "0"
      ]
     },
     "execution_count": 9,
     "metadata": {},
     "output_type": "execute_result"
    }
   ],
   "source": [
    "### linux alternative for startfile()\n",
    "filename = r\"/home/carlson/Documents/projects.odt\"\n",
    "\n",
    "import sys, subprocess\n",
    "opener = \"open\" if sys.platform == \"darwin\" else \"xdg-open\"\n",
    "\n",
    "subprocess.call([opener, filename])  ## works like a charm :)"
   ]
  },
  {
   "cell_type": "code",
   "execution_count": null,
   "metadata": {},
   "outputs": [],
   "source": [
    "## function to open a file nor matter the platform\n",
    "## note that you must import os, sys, subprocess\n",
    "\n",
    "def open_file(filename):\n",
    "    if sys.platform == \"win32\":\n",
    "        os.startfile(filename)\n",
    "    else:\n",
    "        opener = \"open\" if sys.platform == \"darwin\" else \"xdg-open\"\n",
    "        subprocess.call([opener, filename])\n",
    "\n",
    "## you can now call open_file() and pass in path to file as filename\n",
    "## you may also want to try \"subprocess.Popen([\"open, 'directory'])"
   ]
  }
 ],
 "metadata": {
  "interpreter": {
   "hash": "1736df6a7dfdf64c224f14593768c7974338ca65bb2fb0d6b90b526b6c35999f"
  },
  "kernelspec": {
   "display_name": "Python 3.8.8 ('base')",
   "language": "python",
   "name": "python3"
  },
  "language_info": {
   "codemirror_mode": {
    "name": "ipython",
    "version": 3
   },
   "file_extension": ".py",
   "mimetype": "text/x-python",
   "name": "python",
   "nbconvert_exporter": "python",
   "pygments_lexer": "ipython3",
   "version": "3.8.8"
  },
  "orig_nbformat": 4
 },
 "nbformat": 4,
 "nbformat_minor": 2
}
