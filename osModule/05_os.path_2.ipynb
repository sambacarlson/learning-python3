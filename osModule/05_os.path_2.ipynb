{
 "cells": [
  {
   "cell_type": "markdown",
   "metadata": {},
   "source": [
    "### os.path.join()\n",
    "gives us the ability to join two or more path components together using the appropriate separator. \\ for windows and / for linux\n",
    "### os.path.split()\n",
    "returns a tuple of the path of the last subfolder or file and the path to it. see example below"
   ]
  },
  {
   "cell_type": "code",
   "execution_count": 3,
   "metadata": {},
   "outputs": [
    {
     "name": "stdout",
     "output_type": "stream",
     "text": [
      "documents/newfiles/diretory one/file one\n"
     ]
    }
   ],
   "source": [
    "#EXAMPLE: os.path.join\n",
    "import os\n",
    "path1 = r\"documents/newfiles\"\n",
    "path2 = r\"diretory one/file one\"\n",
    "\n",
    "path3 = os.path.join(path1, path2) ## note that .join doesn't check if the paths actually exist\n",
    "\n",
    "print(path3)"
   ]
  },
  {
   "cell_type": "code",
   "execution_count": 4,
   "metadata": {},
   "outputs": [
    {
     "data": {
      "text/plain": [
       "('documents/newfiles/diretory one', 'file one')"
      ]
     },
     "execution_count": 4,
     "metadata": {},
     "output_type": "execute_result"
    }
   ],
   "source": [
    "#EXAMPLE: os.path.split\n",
    "os.path.split(path3)"
   ]
  },
  {
   "cell_type": "code",
   "execution_count": 6,
   "metadata": {},
   "outputs": [
    {
     "name": "stdout",
     "output_type": "stream",
     "text": [
      "documents/newfiles/diretory one\n",
      "file one\n"
     ]
    }
   ],
   "source": [
    "##we apply .split like so\n",
    "_dir, filename = os.path.split(path3)\n",
    "print(_dir)\n",
    "print(filename)\n",
    "\n",
    "#the code splits path3 and assigns the parent path to _dir and the child to filename"
   ]
  },
  {
   "cell_type": "code",
   "execution_count": null,
   "metadata": {},
   "outputs": [],
   "source": []
  }
 ],
 "metadata": {
  "interpreter": {
   "hash": "1736df6a7dfdf64c224f14593768c7974338ca65bb2fb0d6b90b526b6c35999f"
  },
  "kernelspec": {
   "display_name": "Python 3.8.8 ('base')",
   "language": "python",
   "name": "python3"
  },
  "language_info": {
   "codemirror_mode": {
    "name": "ipython",
    "version": 3
   },
   "file_extension": ".py",
   "mimetype": "text/x-python",
   "name": "python",
   "nbconvert_exporter": "python",
   "pygments_lexer": "ipython3",
   "version": "3.8.8"
  },
  "orig_nbformat": 4
 },
 "nbformat": 4,
 "nbformat_minor": 2
}
