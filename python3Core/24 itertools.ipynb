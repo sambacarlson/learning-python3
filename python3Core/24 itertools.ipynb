{
 "cells": [
  {
   "cell_type": "code",
   "execution_count": 6,
   "metadata": {},
   "outputs": [
    {
     "name": "stdout",
     "output_type": "stream",
     "text": [
      "3\n",
      "4\n",
      "5\n",
      "6\n",
      "7\n",
      "[0, 1, 3, 6, 10, 15, 21, 28]\n",
      "[0, 1, 3, 6]\n"
     ]
    }
   ],
   "source": [
    "# the module itertools is a standard library that contains several functions that are useful in functional programming.\n",
    "# one type of function it produces is infinite iterators\n",
    "# the function 'count()' counts up infinitely from a value.\n",
    "# the function 'cycle()' infinitely iterates through an iterable (list or string for instance)\n",
    "# the function 'repeat()' repeats an object, either infinitely or a specific number of times.\n",
    "# the function 'takewhile()' takes items from an iterable while  a predicate function remains true\n",
    "# the function 'chanin()'  combine several iterables into one long one\n",
    "# the function 'accumulate()' returns a running total of values in an iterable.\n",
    "\n",
    "from itertools import count\n",
    "for i in count(3):\n",
    "    print (i)\n",
    "    if i>=7:\n",
    "        break\n",
    "        \n",
    "from itertools import accumulate, takewhile\n",
    "nums=list(accumulate(range(8)))\n",
    "print (nums)\n",
    "print(list(takewhile(lambda x: x<=6, nums)))"
   ]
  },
  {
   "cell_type": "code",
   "execution_count": 20,
   "metadata": {},
   "outputs": [
    {
     "name": "stdout",
     "output_type": "stream",
     "text": [
      "[('A', 0), ('A', 1), ('B', 0), ('B', 1), ('C', 0), ('C', 1)]\n",
      "[('A', 1), ('A', 2), ('A', 3), ('B', 1), ('B', 2), ('B', 3), ('C', 1), ('C', 2), ('C', 3)]\n",
      "[('A', 'B', 'C'), ('A', 'C', 'B'), ('B', 'A', 'C'), ('B', 'C', 'A'), ('C', 'A', 'B'), ('C', 'B', 'A')]\n"
     ]
    }
   ],
   "source": [
    "## itertools also have several combinatoric functions such as product and permutation. these are used when you want to accomplish a task with all possible  combinations of some items.\n",
    "from itertools import product, permutations\n",
    "letters=(\"A\", \"B\", \"C\",)\n",
    "print(list(product(letters, range (2))))\n",
    "print (list(product(letters, range(1,4))))\n",
    "print(list(permutations(letters)))"
   ]
  },
  {
   "cell_type": "code",
   "execution_count": null,
   "metadata": {},
   "outputs": [],
   "source": [
    "\"\""
   ]
  }
 ],
 "metadata": {
  "kernelspec": {
   "display_name": "Python 3",
   "language": "python",
   "name": "python3"
  },
  "language_info": {
   "codemirror_mode": {
    "name": "ipython",
    "version": 3
   },
   "file_extension": ".py",
   "mimetype": "text/x-python",
   "name": "python",
   "nbconvert_exporter": "python",
   "pygments_lexer": "ipython3",
   "version": "3.8.8"
  }
 },
 "nbformat": 4,
 "nbformat_minor": 4
}
