{
 "cells": [
  {
   "cell_type": "code",
   "execution_count": 1,
   "metadata": {},
   "outputs": [
    {
     "name": "stdout",
     "output_type": "stream",
     "text": [
      "first 3 numbers are: 1, 2, and 3\n"
     ]
    }
   ],
   "source": [
    "# the 'format' method\n",
    "# here we find a way to combine strings and non-strings\n",
    "nums=list(range(1,6))\n",
    "print(\"first 3 numbers are: {0}, {1}, and {2}\".format(nums[0], nums[1], nums[2]))"
   ]
  },
  {
   "cell_type": "code",
   "execution_count": 3,
   "metadata": {},
   "outputs": [
    {
     "name": "stdout",
     "output_type": "stream",
     "text": [
      ":99\n",
      ":100\n",
      "99, 100\n"
     ]
    }
   ],
   "source": [
    "# string formating can also be done with named variables\n",
    "a=int(input(\":\"))\n",
    "b=int(input(\":\"))\n",
    "rss=\"{x}, {y}\".format(x=a, y=b)\n",
    "print(rss)"
   ]
  },
  {
   "cell_type": "code",
   "execution_count": null,
   "metadata": {},
   "outputs": [],
   "source": []
  }
 ],
 "metadata": {
  "kernelspec": {
   "display_name": "Python 3",
   "language": "python",
   "name": "python3"
  },
  "language_info": {
   "codemirror_mode": {
    "name": "ipython",
    "version": 3
   },
   "file_extension": ".py",
   "mimetype": "text/x-python",
   "name": "python",
   "nbconvert_exporter": "python",
   "pygments_lexer": "ipython3",
   "version": "3.7.6"
  }
 },
 "nbformat": 4,
 "nbformat_minor": 4
}
