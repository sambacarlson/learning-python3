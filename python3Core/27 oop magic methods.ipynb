{
 "cells": [
  {
   "cell_type": "markdown",
   "metadata": {},
   "source": [
    "## Magic Methods\n",
    "Also known as dunders, magic methods are used to create functionality that can't be represented as a normal method<br>\n",
    "An example of magic method is **\\_\\_add\\_\\_** of + <br>\n",
    "One common use of magic methods is *operator overloading.*\n",
    " - **operator overloading** is costumizing the functionality of operators such as + and * "
   ]
  },
  {
   "cell_type": "code",
   "execution_count": 1,
   "metadata": {},
   "outputs": [
    {
     "name": "stdout",
     "output_type": "stream",
     "text": [
      "15\n",
      "14\n"
     ]
    }
   ],
   "source": [
    "class Vector2D:\n",
    "    def __init__(self, x, y):\n",
    "        self.x = x\n",
    "        self.y = y\n",
    "        \n",
    "    def __add__(self, other): ## this method will customize the functionality of +\n",
    "        return Vector2D (self.x + other.x, self.y + other.y)\n",
    "    \n",
    "    \n",
    "first = Vector2D(8,9)\n",
    "second = Vector2D(7,5)\n",
    "result = first+second #since '+' appears here, the magic method __add__ is called. first and second are passed into 'other'.\n",
    "                    # note that  the magic method sees as; \"first.__add__(second)\". so, self.x is 8 and other.x is 7\n",
    "                    #other still has .x and .y because the values it is manipulating are of x and y\n",
    "print(result.x) ## dot x and dot y because x and y are attributes of a method (the constructor in this case)\n",
    "print(result.y)\n",
    "\n",
    "## so when ever you add two Vector2D objects, their x and y values are added correspondently."
   ]
  },
  {
   "cell_type": "markdown",
   "metadata": {},
   "source": [
    "### More magic methods for common operations:\n",
    "\n",
    "- <b>\\_\\_sub\\_\\_ for \\-\n",
    "- \\_\\_mul\\_\\_ for \\*\n",
    "- \\_\\_truediv\\_\\_ for /\n",
    "- \\_\\_floordiv\\_\\_ for //\n",
    "- \\_\\_mod\\_\\_ for %\n",
    "- \\_\\_pow\\_\\_ for \\*\\*\n",
    "- \\_\\_and\\_\\_ for &\n",
    "- \\_\\_xor\\_\\_ for ^\n",
    "- \\_\\_or\\_\\_ for |</b>"
   ]
  },
  {
   "cell_type": "markdown",
   "metadata": {},
   "source": [
    "- the expression x+y is translated as x.\\_\\_add\\_\\_(y)\n",
    "- however, if x hasn't implemented __\\_\\_add\\_\\___, and x and y are of different types, then __y.\\_\\_radd\\_\\_(x)__ is called<br>\n",
    "<i>That is, if x and y are of different types,say x of a class __Myclass()__ and y is of some other class, hence some other type, and x doesn't implement the \\_\\_add\\_\\_ mehod, then the interpreter will not understand x.\\_\\_add\\_\\_(y). it will therefore call y.\\_\\_radd\\_\\_(x), from the class of y, which should do the same thing x.\\_\\_add\\_\\_(y) was supposed to do</i>\n",
    "- there are equivalent __r__ methods for all methods mentioned."
   ]
  },
  {
   "cell_type": "code",
   "execution_count": 6,
   "metadata": {},
   "outputs": [
    {
     "name": "stdout",
     "output_type": "stream",
     "text": [
      "Spam\n",
      "============\n",
      "Hello World!\n"
     ]
    }
   ],
   "source": [
    "class SpecialString:\n",
    "    def __init__(self, cont):\n",
    "        self.cont = cont\n",
    "        \n",
    "    def __truediv__(self, other):\n",
    "        line = \"=\"*len(other.cont)\n",
    "        return \"\\n\".join([self.cont, line, other.cont])\n",
    "    \n",
    "    \n",
    "spam = SpecialString(\"Spam\")\n",
    "hello = SpecialString(\"Hello World!\")\n",
    "print(spam/hello)"
   ]
  },
  {
   "cell_type": "markdown",
   "metadata": {},
   "source": [
    "### there are also magic methods for comparisons\n",
    "- <b>\\_\\_lt\\_\\_ for <\n",
    "- \\_\\_le\\_\\_ for <=\n",
    "- \\_\\_eq\\_\\_ for ==\n",
    "- \\_\\_ne\\_\\_ for !=\n",
    "- \\_\\_gt\\_\\_ for >\n",
    "- \\_\\_ge\\_\\_ for >=</b>\n",
    "\n",
    "if __\\_\\_ne\\_\\___ is not implemented, it returns the opposite of __\\_\\_eq\\_\\___. there are no other relationships between other operators"
   ]
  },
  {
   "cell_type": "code",
   "execution_count": 9,
   "metadata": {},
   "outputs": [
    {
     "name": "stdout",
     "output_type": "stream",
     "text": [
      ">Hello>World\n",
      "W>Hello>orld\n",
      "Wo>Hello>rld\n",
      "Wor>Hello>ld\n",
      "Worl>Hello>d\n",
      "World>Hello>\n"
     ]
    }
   ],
   "source": [
    "class SpecialString:\n",
    "    def __init__(self, cont):\n",
    "        self.cont = cont\n",
    "        \n",
    "    def __gt__(self, other):\n",
    "        for index in range(len(other.cont)+1):\n",
    "            result = other.cont[:index]+\">\"+self.cont\n",
    "            result += \">\"+other.cont[index:]\n",
    "            print(result)                        \n",
    "            \n",
    "            \n",
    "spam=SpecialString(\"Hello\")\n",
    "eggs=SpecialString(\"World\")\n",
    "spam>eggs"
   ]
  },
  {
   "cell_type": "markdown",
   "metadata": {},
   "source": [
    "### there are several magic methods for making classes act like containers\n",
    "<ul>\n",
    "    <li><b>__len__</b> for len()</li>\n",
    "    <li><b>__getitem__</b> for indexing</li>\n",
    "    <li><b>__setitem__</b> for assigning to indexed values</li>\n",
    "    <li><b>__delitem__</b> for deleting indexed values</li>\n",
    "    <li><b>__iter__</b> for iteration over objects (eg in for loops)</li>\n",
    "    <li><b>__contains__</b> for in</li>\n",
    "</ul>\n",
    "\n",
    "there are many othe magic methods ; __\\_\\_call\\_\\_, \\_\\_int\\_\\_, \\_\\_str\\_\\_ etc__"
   ]
  },
  {
   "cell_type": "code",
   "execution_count": 10,
   "metadata": {},
   "outputs": [
    {
     "name": "stdout",
     "output_type": "stream",
     "text": [
      "10\n",
      "9\n",
      "B\n",
      "C\n"
     ]
    }
   ],
   "source": [
    "import random\n",
    "\n",
    "class VagueList:\n",
    "    def __init__ (self, cont):\n",
    "        self.cont = cont\n",
    "        \n",
    "    def __getitem__ (self, index):\n",
    "        return self.cont[index + random.randint(-1,1)] ## add 1, subtract 1 or do nothing to the index of the object when indexed\n",
    "    \n",
    "    def __len__(self):\n",
    "        return random.randint(0, len(self.cont)*2)\n",
    "    \n",
    "    \n",
    "vague_list = VagueList([\"A\", \"B\", \"C\", \"D\", \"E\"])\n",
    "print(len(vague_list))\n",
    "print(len(vague_list))\n",
    "print(vague_list[2])\n",
    "print(vague_list[2]) \n",
    "\n",
    "\n",
    "## we have overwritten the len() function for class VagueList to return a random number. The indexing function also returns\n",
    "## a random item in a range fromn the list based on the expression"
   ]
  },
  {
   "cell_type": "code",
   "execution_count": null,
   "metadata": {},
   "outputs": [],
   "source": []
  }
 ],
 "metadata": {
  "kernelspec": {
   "display_name": "Python 3",
   "language": "python",
   "name": "python3"
  },
  "language_info": {
   "codemirror_mode": {
    "name": "ipython",
    "version": 3
   },
   "file_extension": ".py",
   "mimetype": "text/x-python",
   "name": "python",
   "nbconvert_exporter": "python",
   "pygments_lexer": "ipython3",
   "version": "3.8.8"
  }
 },
 "nbformat": 4,
 "nbformat_minor": 4
}
