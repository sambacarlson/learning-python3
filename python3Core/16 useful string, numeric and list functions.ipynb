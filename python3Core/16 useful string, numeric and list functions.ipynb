{
 "cells": [
  {
   "cell_type": "code",
   "execution_count": 10,
   "metadata": {},
   "outputs": [
    {
     "name": "stdout",
     "output_type": "stream",
     "text": [
      "one, two, three\n",
      "Python is astonishing. wow!\n",
      "True\n",
      "False\n",
      "WE CAN EVEN CHANGE ALL LOWER CASES TO UPPER CASES\n",
      "who says we cannot channge all upper cases to lower cases too?\n",
      "['python', 'is ever cool']\n"
     ]
    }
   ],
   "source": [
    "###STRING\n",
    "str=['one', 'two', 'three']\n",
    "print(\", \".join(str))\n",
    "print(\"Python is amazing. wow!\".replace (\"amazing\", \"astonishing\"))\n",
    "print(\"Python3 is exceeding broad\".startswith(\"Python3\"))\n",
    "print(\"Python3 is exceeding broad\".endswith(\"exceeding\"))\n",
    "print(\"we can even change all lower cases to upper cases\".upper())\n",
    "print(\"WHO SAYS WE CANNOT CHANNGE ALL UPPER CASES TO LOWER CASES TOO?\".lower())\n",
    "print(\"python, is ever cool\".split(\", \"))\n",
    "\n",
    "##join() and split() are a little tricky but very important. \n",
    "# join takes two or more separate strings and merges them. split does the exact opossite"
   ]
  },
  {
   "cell_type": "code",
   "execution_count": 7,
   "metadata": {},
   "outputs": [
    {
     "name": "stdout",
     "output_type": "stream",
     "text": [
      "one\n",
      "two\n",
      "three\n",
      "four\n",
      "['one', 'two', 'three', 'four']\n",
      "['mango', 'banana', 'plum', 'guava', '']\n"
     ]
    }
   ],
   "source": [
    "str=[\"one\", \"two\", \"three\", \"four\"]\n",
    "strr=\"one two three four\"\n",
    "\n",
    "print(\"\\n\".join(str))## means join the list called str and separate each item with new line\n",
    "\n",
    "print (strr.split())## means split strr where there there are spaces.\n",
    "print(\"mangosbananasplumsguavas\".split('s')) ##split at every letter s"
   ]
  },
  {
   "cell_type": "code",
   "execution_count": 13,
   "metadata": {},
   "outputs": [
    {
     "name": "stdout",
     "output_type": "stream",
     "text": [
      "10\n",
      "-5\n",
      "2\n"
     ]
    }
   ],
   "source": [
    "###NUMERIC\n",
    "#we will consider 3 functions here; max(), min(), abs() for maximum, minimum and absolute value respectively\n",
    "nums=list(range(-5,11)) # list from -5 to 10\n",
    "print(max(nums))\n",
    "print(min(nums))\n",
    "print(abs(nums[3])) # index 3 is -2. so abs() returns the absolute value of -2 which is it's positive"
   ]
  },
  {
   "cell_type": "code",
   "execution_count": 16,
   "metadata": {},
   "outputs": [
    {
     "name": "stdout",
     "output_type": "stream",
     "text": [
      "at least one value is even\n",
      "(0, 1)\n",
      "(1, 2)\n",
      "(2, 3)\n",
      "(3, 4)\n",
      "(4, 5)\n",
      "(5, 6)\n",
      "(6, 7)\n",
      "(7, 8)\n",
      "(8, 9)\n",
      "(9, 10)\n"
     ]
    }
   ],
   "source": [
    "###LIST\n",
    "# 'all' and 'any' conditional statements and the enumearatte function\n",
    "\n",
    "nums=list(range(1,11))\n",
    "if all (i>5 for i in nums):\n",
    "    print('all values in the list are greater than 5')\n",
    "if any (i%2==0 for i in nums):\n",
    "    print('at least one value is even')\n",
    "for v in enumerate(nums): ##enumerae iterates through values and indices of a list simultaneously.\n",
    "    print (v)"
   ]
  },
  {
   "cell_type": "code",
   "execution_count": null,
   "metadata": {},
   "outputs": [],
   "source": []
  }
 ],
 "metadata": {
  "kernelspec": {
   "display_name": "Python 3",
   "language": "python",
   "name": "python3"
  },
  "language_info": {
   "codemirror_mode": {
    "name": "ipython",
    "version": 3
   },
   "file_extension": ".py",
   "mimetype": "text/x-python",
   "name": "python",
   "nbconvert_exporter": "python",
   "pygments_lexer": "ipython3",
   "version": "3.7.6"
  }
 },
 "nbformat": 4,
 "nbformat_minor": 4
}
