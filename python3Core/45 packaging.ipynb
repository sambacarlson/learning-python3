{
 "cells": [
  {
   "cell_type": "code",
   "execution_count": null,
   "metadata": {
    "collapsed": true
   },
   "outputs": [],
   "source": [
    "# in python, packaging refers to putting modules you have written in a standard format so other programmers can install\n",
    "# and use them with ease. this involes the modules 'setuptools' and 'distutils'\n",
    "\"\"\"\n",
    "the first step in packaging is to organize existing  files correctly. place all of the files you want to put in a library\n",
    "in the same parent directory.\n",
    "This directory should also a file called __init__.py, which can be blank but must be present in the directory.\n",
    "This directory goes into another directory containing the readme and the liscence, as well as an important file called \n",
    "setup.py\n",
    "example:\n",
    "\n",
    "sololearn/\n",
    "  LICENSE.txt\n",
    "  README.txt\n",
    "  setup.py\n",
    "  sololearn/\n",
    "    __init__.py\n",
    "    sololearn1.py\n",
    "    sololearn2.py\n",
    "    \n",
    "you can have as many script files in the directory as you need\n",
    "\n",
    "The next step in packaging is to write the setup.py file.\n",
    "this  contains information necessary to assemble the package so it can be uploaded to PyPI and installed with pip\n",
    "(name, version,etc)\n",
    "exmaple of a setup.py file\n",
    "\n",
    "from distutils.core import setup\n",
    "setup(\n",
    "    name='sololearn',\n",
    "    version='0.1dev',\n",
    "    packages=['sololearn',],\n",
    "    license='MIT',\n",
    "    long_description=open('README.txt').read(),\n",
    "    )\n",
    "    \n",
    "after creating the setup.py file, upload it to PyPI, or use the command line to create a binary distribution\n",
    "(an executable installer).\n",
    "To build a source distribution, use the command line to navigate to the directory conataining setup.py and run the command;\n",
    "python setup.py sdist\n",
    "run \n",
    "python setup.py bdist. \n",
    "or for windows;\n",
    "'python setup.py bdist_wininst' to build a binary distribution.\n",
    "use 'python setup.py register' followed by 'python setup.py sdist upload to upload a package.'\n",
    "finally, install  the pachage with 'python setup.py install'\n",
    "\n",
    "\n",
    "PACKAGING FOR USERS\n",
    "Above, we talk of packaging for other python programmers. but not everyone is a programer or have python installed in their\n",
    "computer. It is therefore useful to to package scripts as executable files for the revevant platform such as windows\n",
    "or mac. this is not necessary for linux  as most linux users have python installed and are able to run scripts as they are.\n",
    "for windows, many tools are available for converting scripts to executables for example: py2exe, can be used to package a \n",
    "python script along with the libraries it requires, into a single executable.\n",
    "PyInstaller and cx_freeze serve the same purpose\n",
    "for Macs, use py2app, PyInstaller or cx-freeze\n",
    "\"\"\""
   ]
  }
 ],
 "metadata": {
  "kernelspec": {
   "display_name": "Python 3",
   "language": "python",
   "name": "python3"
  },
  "language_info": {
   "codemirror_mode": {
    "name": "ipython",
    "version": 3
   },
   "file_extension": ".py",
   "mimetype": "text/x-python",
   "name": "python",
   "nbconvert_exporter": "python",
   "pygments_lexer": "ipython3",
   "version": "3.7.6"
  }
 },
 "nbformat": 4,
 "nbformat_minor": 4
}
