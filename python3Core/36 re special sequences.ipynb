{
 "cells": [
  {
   "cell_type": "raw",
   "metadata": {},
   "source": [
    "# there are verious special sequences you can use in regular expressions. they are written as a backslash followed by another character.\n",
    "#one useful special sequence is a backslash and a number between 1 and 99, eg \\1,\\18 this matches the expression of the group of that number\n",
    "\n",
    "import re\n",
    "#print(\"all good\")\n",
    "pattern=r\"a(bc)(de)(f(g)h)i\\2\"\n",
    "\n",
    "pattern1=r\"a(bc)(de)(f(g)h)i\"\n",
    "match=re.match(pattern1, \"abcdefghijklmnop\")\n",
    "if match:\n",
    "    print (match.groups())\n",
    "#print(len(match.groups()))\n",
    "\n",
    "match1=re.match(pattern, \"bc\")\n",
    "if match1:\n",
    "    print(\"match 1\")\n",
    "match2=re.match(pattern, \"de de \")\n",
    "if match2:\n",
    "    print(\"match 2\")\n",
    "match3=re.match(pattern, \"abcabcabcabcabcabc\")\n",
    "if match3:\n",
    "    print(\"match 3\")\n",
    "    "
   ]
  },
  {
   "cell_type": "code",
   "execution_count": 56,
   "metadata": {},
   "outputs": [
    {
     "name": "stdout",
     "output_type": "stream",
     "text": [
      "match 1\n"
     ]
    }
   ],
   "source": [
    "## more useful special sequences are \\d\\s and \\w. these match digits, whitespaces and word characters respectively\n",
    "# in ASCII mode, they are equivalent to [0-9], [\\t\\n\\r\\f\\v],  and [a-zA-Z0-9_]\n",
    "# in Unicode mode, they match certain other characters as well. for instance, \\w matches letters with accents.\n",
    "# versions of these special sequences with upper case letters \\D, \\S, \\W mean the opposite of to the lower-case versions. \n",
    "# for instance, \\D matches anything that isn't a digit.\n",
    "\n",
    "import re\n",
    "pattern=r\"(\\D+\\d)\" # matches one or more non digits followed by a digit\n",
    "if re.match(pattern, \"Hi 999!\"):\n",
    "    print(\"match 1\")\n",
    "if re.match(pattern, \"1, 23, 456!\"):\n",
    "    print(\"match 2\")\n",
    "if re.match(pattern, \"!$?\"):\n",
    "    print(\"match 3\")\n"
   ]
  },
  {
   "cell_type": "code",
   "execution_count": 2,
   "metadata": {},
   "outputs": [
    {
     "name": "stdout",
     "output_type": "stream",
     "text": [
      "match 1\n",
      "match 2\n",
      "match 4\n"
     ]
    }
   ],
   "source": [
    "# Additional special sequences are \\A, \\Z and \\b. \n",
    "# \\A and \\Z match the beginning and the end of a string respectively\n",
    "# \\b matches the empty string between the \\w and \\W or \\w characters and the beginning or end of the string. informally, \n",
    "# it represents the boundary between words.\n",
    "# the sequence \\B matches the empty string anywhere else\n",
    "\n",
    "pattern=r\"\\b(cat)\\b\"\n",
    "if re.search(pattern, \"the cat sat!\"):\n",
    "    print (\"match 1\")\n",
    "if re.search(pattern, \"Wes<cat<tered?\"):\n",
    "    print(\"match 2\")\n",
    "if re.search(pattern, \"we scattered.\"):\n",
    "    print(\"match 3\")\n",
    "if re.search(pattern, \"!cat._\"):\n",
    "    print(\"match 4\")\n",
    "    \n",
    "# it needs to see space around 'cat' or at least not a \\w or \\W character"
   ]
  },
  {
   "cell_type": "code",
   "execution_count": 78,
   "metadata": {},
   "outputs": [
    {
     "name": "stdout",
     "output_type": "stream",
     "text": [
      "info@sololearn.com\n"
     ]
    }
   ],
   "source": [
    "##EXAMPLE: EMAIL EXTRACTION\n",
    "import re\n",
    "pattern=r\"([\\w\\.-]+)@([\\w\\.-]+)(\\.[\\w\\.]+)\"\n",
    "str=\"please contact info@sololearn.com for assistance\"\n",
    "match=re.search(pattern, str)\n",
    "if match:\n",
    "    print(match.group())\n",
    "# in case the string contains multiple email adresses, we could use the re.findall method instead of re.search to extract all the email addresses\n"
   ]
  },
  {
   "cell_type": "code",
   "execution_count": null,
   "metadata": {},
   "outputs": [],
   "source": []
  }
 ],
 "metadata": {
  "kernelspec": {
   "display_name": "Python 3.10.6 64-bit",
   "language": "python",
   "name": "python3"
  },
  "language_info": {
   "codemirror_mode": {
    "name": "ipython",
    "version": 3
   },
   "file_extension": ".py",
   "mimetype": "text/x-python",
   "name": "python",
   "nbconvert_exporter": "python",
   "pygments_lexer": "ipython3",
   "version": "3.10.6"
  },
  "vscode": {
   "interpreter": {
    "hash": "916dbcbb3f70747c44a77c7bcd40155683ae19c65e1c03b4aa3499c5328201f1"
   }
  }
 },
 "nbformat": 4,
 "nbformat_minor": 4
}
