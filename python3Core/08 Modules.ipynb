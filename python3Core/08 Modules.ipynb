{
 "cells": [
  {
   "cell_type": "code",
   "execution_count": 3,
   "metadata": {},
   "outputs": [
    {
     "name": "stdout",
     "output_type": "stream",
     "text": [
      "3\n",
      "5\n",
      "3\n",
      "2\n"
     ]
    }
   ],
   "source": [
    "## modules are pieces of code\n",
    "##modules must be imported before use\n",
    "\n",
    "import random\n",
    "\n",
    "for i in range (4):\n",
    "    value=random.randint (2,7)  ## choos 4 numbers at random within the range 2 and 7\n",
    "    print (value)"
   ]
  },
  {
   "cell_type": "code",
   "execution_count": 10,
   "metadata": {},
   "outputs": [
    {
     "name": "stdout",
     "output_type": "stream",
     "text": [
      "3.141592653589793\n",
      "3.1622776601683795\n",
      "0.8509035245341184\n"
     ]
    }
   ],
   "source": [
    "##you can inport only a certain function or functions of a module like so\n",
    "\n",
    "from math import pi,sqrt,sin\n",
    "\n",
    "a=10\n",
    "print (pi)\n",
    "print (sqrt(a)) ##you can say 'from math import*' to import all function from math module but that is discouraged as it confuses varaibles in your code with those of the module\n",
    "print (sin(45))"
   ]
  },
  {
   "cell_type": "code",
   "execution_count": 11,
   "metadata": {},
   "outputs": [
    {
     "name": "stdout",
     "output_type": "stream",
     "text": [
      "10.0\n"
     ]
    }
   ],
   "source": [
    "## you can import a module or object under a different name with the 'as' keyword\n",
    "\n",
    "from math import sqrt as square_root\n",
    "\n",
    "print(square_root(100))"
   ]
  },
  {
   "cell_type": "code",
   "execution_count": null,
   "metadata": {},
   "outputs": [],
   "source": [
    "\"\"\"\n",
    "There are three main types of module in python; those you write yourself, those you install from external sources and those\n",
    "preinstalled in python. the preinstalled type is called the standard library. some useful modules in python's standard library\n",
    "include; string, re, datetime, math, random, os, multiprocessing, subprocess, socket, email, json, doctest,unittest, pdb, \n",
    "argparse and sys.\n",
    "The standard library is vast. the complete documentation of it can be found at www.python.org\n",
    "\"\"\""
   ]
  },
  {
   "cell_type": "code",
   "execution_count": null,
   "metadata": {},
   "outputs": [],
   "source": []
  },
  {
   "cell_type": "code",
   "execution_count": null,
   "metadata": {},
   "outputs": [],
   "source": []
  }
 ],
 "metadata": {
  "kernelspec": {
   "display_name": "Python 3",
   "language": "python",
   "name": "python3"
  },
  "language_info": {
   "codemirror_mode": {
    "name": "ipython",
    "version": 3
   },
   "file_extension": ".py",
   "mimetype": "text/x-python",
   "name": "python",
   "nbconvert_exporter": "python",
   "pygments_lexer": "ipython3",
   "version": "3.7.6"
  }
 },
 "nbformat": 4,
 "nbformat_minor": 4
}
