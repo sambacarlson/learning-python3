{
 "cells": [
  {
   "cell_type": "code",
   "execution_count": 8,
   "metadata": {},
   "outputs": [
    {
     "name": "stdout",
     "output_type": "stream",
     "text": [
      "enter filename:new.txt\n",
      "a: 4.21\n",
      "b: 1.4\n",
      "c: 0.93\n",
      "d: 2.34\n",
      "e: 10.75\n",
      "f: 3.27\n",
      "g: 1.87\n",
      "h: 4.67\n",
      "i: 7.01\n",
      "j: 0.0\n",
      "k: 0.93\n",
      "l: 3.27\n",
      "m: 1.4\n",
      "n: 6.07\n",
      "o: 6.54\n",
      "p: 1.87\n",
      "q: 0.0\n",
      "r: 1.87\n",
      "s: 4.67\n",
      "t: 7.94\n",
      "u: 0.93\n",
      "v: 0.0\n",
      "w: 3.74\n",
      "x: 0.47\n",
      "y: 1.87\n",
      "z: 0.0\n"
     ]
    }
   ],
   "source": [
    "## program to find the percentage of text each character occupies\n",
    "def count_char(text, char):\n",
    "    count=0\n",
    "    for c in text:\n",
    "        if c==char:\n",
    "            count+=1\n",
    "    return count\n",
    "filename=input(\"enter filename:\")\n",
    "with open(filename) as f:\n",
    "    text=f.read()\n",
    "for c in 'abcdefghijklmnopqrstuvwxyz':\n",
    "    perc=100*count_char(text, c)/len(text)\n",
    "    print (\"{0}: {1}\".format(c, round(perc, 2)))"
   ]
  },
  {
   "cell_type": "code",
   "execution_count": null,
   "metadata": {},
   "outputs": [],
   "source": []
  }
 ],
 "metadata": {
  "kernelspec": {
   "display_name": "Python 3",
   "language": "python",
   "name": "python3"
  },
  "language_info": {
   "codemirror_mode": {
    "name": "ipython",
    "version": 3
   },
   "file_extension": ".py",
   "mimetype": "text/x-python",
   "name": "python",
   "nbconvert_exporter": "python",
   "pygments_lexer": "ipython3",
   "version": "3.7.6"
  }
 },
 "nbformat": 4,
 "nbformat_minor": 4
}
