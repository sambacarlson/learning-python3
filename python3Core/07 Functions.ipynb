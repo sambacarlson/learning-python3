{
 "cells": [
  {
   "cell_type": "code",
   "execution_count": 1,
   "metadata": {},
   "outputs": [
    {
     "name": "stdout",
     "output_type": "stream",
     "text": [
      "enter a number to double4\n",
      "8\n"
     ]
    }
   ],
   "source": [
    "## Functions can be created using the 'def' statement\n",
    "def PrintDouble(x):\n",
    "    print(2*x)\n",
    "    \n",
    "PrintDouble(int(input(\"enter a number to double\")))   #takes input from user as integer and multiplies it by two"
   ]
  },
  {
   "cell_type": "code",
   "execution_count": 2,
   "metadata": {},
   "outputs": [
    {
     "data": {
      "text/plain": [
       "'Samba'"
      ]
     },
     "execution_count": 2,
     "metadata": {},
     "output_type": "execute_result"
    }
   ],
   "source": [
    "#use return statement to return a value from a fucntion that can be used later\n",
    "def shortest_string(x,y):\n",
    "    if len(x)==len(y):\n",
    "        print(\"both strings have equal lenght\")\n",
    "    elif len(x)>len(y):\n",
    "        return y\n",
    "    else:\n",
    "        return x\n",
    "    \n",
    "shortest_string('Carlson', 'Samba') ## any statements after the return statement will not be ignored"
   ]
  },
  {
   "cell_type": "code",
   "execution_count": 4,
   "metadata": {},
   "outputs": [
    {
     "name": "stdout",
     "output_type": "stream",
     "text": [
      "18\n"
     ]
    }
   ],
   "source": [
    "## Functions can be assigned and reasisgned to vaariables and later referenced by those names\n",
    "def mul (x,y):\n",
    "    return x*y\n",
    "a=3\n",
    "b=6\n",
    "multiply=mul\n",
    "print(multiply(a,b))"
   ]
  },
  {
   "cell_type": "code",
   "execution_count": 7,
   "metadata": {},
   "outputs": [
    {
     "name": "stdout",
     "output_type": "stream",
     "text": [
      "100\n",
      "0\n"
     ]
    }
   ],
   "source": [
    "## We can also pass functions as arguments in other functions\n",
    "def mul(x,y):\n",
    "    return x*y\n",
    "def mod (x,y):\n",
    "    return x%y\n",
    "def twice(w,x,y):\n",
    "    return w(w(x,y), w(x,y))\n",
    "\n",
    "a=2\n",
    "b=5\n",
    "print(twice (mul,a,b))\n",
    "print(twice(mod,b,a))"
   ]
  },
  {
   "cell_type": "code",
   "execution_count": null,
   "metadata": {},
   "outputs": [],
   "source": []
  }
 ],
 "metadata": {
  "kernelspec": {
   "display_name": "Python 3",
   "language": "python",
   "name": "python3"
  },
  "language_info": {
   "codemirror_mode": {
    "name": "ipython",
    "version": 3
   },
   "file_extension": ".py",
   "mimetype": "text/x-python",
   "name": "python",
   "nbconvert_exporter": "python",
   "pygments_lexer": "ipython3",
   "version": "3.8.3"
  }
 },
 "nbformat": 4,
 "nbformat_minor": 4
}
