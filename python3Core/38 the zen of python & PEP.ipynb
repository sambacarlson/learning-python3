{
 "cells": [
  {
   "cell_type": "code",
   "execution_count": 2,
   "metadata": {},
   "outputs": [
    {
     "name": "stdout",
     "output_type": "stream",
     "text": [
      "The Zen of Python, by Tim Peters\n",
      "\n",
      "Beautiful is better than ugly.\n",
      "Explicit is better than implicit.\n",
      "Simple is better than complex.\n",
      "Complex is better than complicated.\n",
      "Flat is better than nested.\n",
      "Sparse is better than dense.\n",
      "Readability counts.\n",
      "Special cases aren't special enough to break the rules.\n",
      "Although practicality beats purity.\n",
      "Errors should never pass silently.\n",
      "Unless explicitly silenced.\n",
      "In the face of ambiguity, refuse the temptation to guess.\n",
      "There should be one-- and preferably only one --obvious way to do it.\n",
      "Although that way may not be obvious at first unless you're Dutch.\n",
      "Now is better than never.\n",
      "Although never is often better than *right* now.\n",
      "If the implementation is hard to explain, it's a bad idea.\n",
      "If the implementation is easy to explain, it may be a good idea.\n",
      "Namespaces are one honking great idea -- let's do more of those!\n"
     ]
    }
   ],
   "source": [
    "###THE ZEN OF PYTHON\n",
    "## The Zen of Python is a set of principles that serve as a guide to programming the pythoneer way. it is imported by;\n",
    "import this"
   ]
  },
  {
   "cell_type": "code",
   "execution_count": null,
   "metadata": {},
   "outputs": [],
   "source": [
    "\"\"\"some lines in the Zen of Python may need more explanation\n",
    "- Explicit is better than implicit: It is best to spell out exacly what your code is doing. This is why adding a numeric \n",
    "string  to an integer requires explicit conversation, rather than having it happen behind the scenes, as it \n",
    "does in other languages.\n",
    "- Flat is better than nested: Heavily nested structures (lists of lists, of lists, and on and on... ) should be avoided\n",
    "- Errors should never pass silently: In general, when an error occurs, you should output some sort of error message, rather\n",
    "than ignoring it\n",
    "\"\"\""
   ]
  },
  {
   "cell_type": "code",
   "execution_count": null,
   "metadata": {},
   "outputs": [],
   "source": [
    "### PYTHON ENHANCEMENT PROPOSAL(PEP) \n",
    "#these are suggestions for improvements to the language, made by experienced Python developers\n",
    "\"\"\"\n",
    "PEP 8 is  is a style guide on the subject of writing readable code. It contains a number of guidelines in reference to \n",
    "variable names which are summarized here:\n",
    "- Modules should have short, all-lowcase names;\n",
    "- Class names should be in the 'CapWords' style;\n",
    "- Most variables and function names should be 'lowcase_with_underscores';\n",
    "- Constants (variables that never change value) should be 'CAPS_WITH_UNDERSCORES';\n",
    "- Names tha would  clash with Python Keywords (such as 'class' or 'if') should have a trailing underscore.\n",
    "PEP 8 also recommends using spaces around operate and after commas to increase readability.\n",
    "However, spaces should not be overused. for instance, avoid having any space directly inside any type of brackets.\n",
    "Other PEP 8 suggestions include;\n",
    "- Lines shouldn't be longer than 80 characters;\n",
    "- 'from module import *' should be avoided;\n",
    "- There should only be one statement per line.\n",
    "\n",
    "The most important advice in the PEP is to ignore it when it makes sense to do so. Don't bother with following PEP\n",
    "suggestions when it would cause your code to be less readable; inconsistent with surrounding code; or not backwards \n",
    "compatible. However by and large, following PEP 8 will greatly enhance the quality of your code.\n",
    "\n",
    "Some other notable PEPs that cover code styl:\n",
    "PEP 20: The Zen of Python\n",
    "PEP 257: Style Conventions for Docstrings\n",
    "\"\"\""
   ]
  }
 ],
 "metadata": {
  "kernelspec": {
   "display_name": "Python 3",
   "language": "python",
   "name": "python3"
  },
  "language_info": {
   "codemirror_mode": {
    "name": "ipython",
    "version": 3
   },
   "file_extension": ".py",
   "mimetype": "text/x-python",
   "name": "python",
   "nbconvert_exporter": "python",
   "pygments_lexer": "ipython3",
   "version": "3.7.6"
  }
 },
 "nbformat": 4,
 "nbformat_minor": 4
}
