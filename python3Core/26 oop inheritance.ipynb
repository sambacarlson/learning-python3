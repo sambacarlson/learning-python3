{
 "cells": [
  {
   "cell_type": "markdown",
   "metadata": {},
   "source": [
    "## Inhheritance \n",
    "Inheritance provides a way to share functionality between classes.\n"
   ]
  },
  {
   "cell_type": "code",
   "execution_count": null,
   "metadata": {},
   "outputs": [],
   "source": [
    "# Example, say we want to make classes for animals, \n",
    "# it would be wise to also create a super-class where attributes shared by all animals can be placed. \n",
    "# this will avoid unnecessary repetitions. example; all animals have a name and color\n",
    "\n",
    "class Animal:\n",
    "    def __init__ (self, name, color):\n",
    "        self.name = name\n",
    "        self.color = color\n",
    "        \n",
    "        \n",
    "class Cat(Animal): ## passing 'Animal' as an argument in 'Cat' means that 'Cat' is inheriting from 'Animal'\n",
    "    def pur(self):\n",
    "        print(\"Purr....\")\n",
    "        \n",
    "        \n",
    "class Dog(Animal):\n",
    "    def bark(self):\n",
    "        print('Woof!')\n",
    "        \n",
    "        \n",
    "fido=Dog(\"Fido\", \"brown\")\n",
    "print(fido.color)\n",
    "print(fido.name) # name and color are inherited from the 'super' class (Animal). Cat and Dog are sub classes of Animal\n",
    "fido.bark()\n"
   ]
  },
  {
   "cell_type": "markdown",
   "metadata": {},
   "source": [
    "**classes imherit all methods of their superclass, including the constructor (\\_\\_init\\_\\_)**\n",
    "Inheritance can also be indirect. that is, a class (say A) can inherit from a class (say B) that inherits from another class (say C). In that case, it (A) will also inherit from that class (C)\n"
   ]
  },
  {
   "cell_type": "code",
   "execution_count": 1,
   "metadata": {},
   "outputs": [
    {
     "name": "stdout",
     "output_type": "stream",
     "text": [
      "method of A\n",
      "method of B\n",
      "method of C\n"
     ]
    }
   ],
   "source": [
    "class A:\n",
    "    def methodA(self):\n",
    "        print(\"method of A\")\n",
    "        \n",
    "        \n",
    "class B(A):\n",
    "    def methodB(self):\n",
    "        print(\"method of B\")\n",
    "\n",
    "        \n",
    "class C(B):\n",
    "    def methodC(self):\n",
    "        print(\"method of C\")\n",
    "        \n",
    "        \n",
    "c = C()\n",
    "c.methodA()\n",
    "c.methodB()\n",
    "c.methodC()"
   ]
  },
  {
   "cell_type": "markdown",
   "metadata": {},
   "source": [
    "In case two classes (one inheriting from another) have methods with the same name, a function **super()** can used in the sub-class to refer to the super class (to use the super class method)"
   ]
  },
  {
   "cell_type": "code",
   "execution_count": 2,
   "metadata": {},
   "outputs": [
    {
     "name": "stdout",
     "output_type": "stream",
     "text": [
      "2\n",
      "1\n"
     ]
    }
   ],
   "source": [
    "class A:\n",
    "    def One(self):\n",
    "        print(1)\n",
    "        \n",
    "        \n",
    "class B(A):\n",
    "    def One(self):\n",
    "        print(2)\n",
    "        super().One()\n",
    "        \n",
    "        \n",
    "B().One() # this would return only '2' if the function super was not included"
   ]
  },
  {
   "cell_type": "code",
   "execution_count": null,
   "metadata": {},
   "outputs": [],
   "source": []
  }
 ],
 "metadata": {
  "kernelspec": {
   "display_name": "Python 3",
   "language": "python",
   "name": "python3"
  },
  "language_info": {
   "codemirror_mode": {
    "name": "ipython",
    "version": 3
   },
   "file_extension": ".py",
   "mimetype": "text/x-python",
   "name": "python",
   "nbconvert_exporter": "python",
   "pygments_lexer": "ipython3",
   "version": "3.8.8"
  }
 },
 "nbformat": 4,
 "nbformat_minor": 4
}
