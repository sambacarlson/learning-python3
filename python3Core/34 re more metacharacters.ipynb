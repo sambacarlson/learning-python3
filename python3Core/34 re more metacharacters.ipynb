{
 "cells": [
  {
   "cell_type": "code",
   "execution_count": 7,
   "metadata": {},
   "outputs": [
    {
     "name": "stdout",
     "output_type": "stream",
     "text": [
      "match eggspamsspamegg\n",
      "match gggggg\n",
      "match icecream\n",
      "match ice-cream\n",
      "match 9\n"
     ]
    }
   ],
   "source": [
    "# \"*\", \"+\", \"?\", \"{\", and \"}\" specify number of repetitions\n",
    "#'*' means zero or more\n",
    "#'+' means one or more\n",
    "#'?' means zero or one\n",
    "#'{x,y}' means between 2 numbers x and y. if 1st number is missing, it is considered to be 0. if 2nd number is missing, \n",
    "# it is considered to be infinilty\n",
    "\n",
    "\n",
    "import re\n",
    "pattern1=r\"egg(spam)*\"\n",
    "pattern2=r\"g+\"\n",
    "pattern3=r\"ice(-)?cream\"\n",
    "pattern4=r\"9{1,3}$\"\n",
    "\n",
    "if re.match(pattern1, \"eggspamspamegg\"):\n",
    "    print(\"match eggspamsspamegg\")\n",
    "if re.match(pattern1, \"spam\"):\n",
    "    print(\"match spam\")\n",
    "    \n",
    "if re.match(pattern2, \"ggggggg\"):\n",
    "    print(\"match gggggg\")\n",
    "if re.match(pattern2, \"abcd\"):\n",
    "    print(\"match abcd\")\n",
    "    \n",
    "if re.match(pattern3, \"icecream\"):\n",
    "    print(\"match icecream\")\n",
    "if re.match(pattern3, \"ice-cream\"):\n",
    "    print(\"match ice-cream\")\n",
    "if re.match(pattern3, \"iceice-cream\"):\n",
    "    print(\"match iceice-cream\")\n",
    "    \n",
    "if re.match(pattern4, \"9\"):\n",
    "    print(\"match 9\")\n",
    "if re.match(pattern4, \"998\"):\n",
    "    print(\"match 998\")\n",
    "if re.match(pattern4, \"9999\"):\n",
    "    print(\"match 9999\")"
   ]
  },
  {
   "cell_type": "code",
   "execution_count": null,
   "metadata": {},
   "outputs": [],
   "source": []
  }
 ],
 "metadata": {
  "kernelspec": {
   "display_name": "Python 3.10.6 64-bit",
   "language": "python",
   "name": "python3"
  },
  "language_info": {
   "codemirror_mode": {
    "name": "ipython",
    "version": 3
   },
   "file_extension": ".py",
   "mimetype": "text/x-python",
   "name": "python",
   "nbconvert_exporter": "python",
   "pygments_lexer": "ipython3",
   "version": "3.10.6"
  },
  "vscode": {
   "interpreter": {
    "hash": "916dbcbb3f70747c44a77c7bcd40155683ae19c65e1c03b4aa3499c5328201f1"
   }
  }
 },
 "nbformat": 4,
 "nbformat_minor": 4
}
