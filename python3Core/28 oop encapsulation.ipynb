{
 "cells": [
  {
   "cell_type": "markdown",
   "metadata": {},
   "source": [
    "## Encapsulation\n",
    "Encapsulation involves packaging of related variables and functions into a single easy-to-use object - an instance of a class.<br> \n",
    "__Data hiding__ states that implementation details of a class should be hidden, and a clean standard interface be presented for those who want to use the class<br>\n",
    "\n",
    "__Weakly private__ methods and attributes have a single underscore at the beggining. this signals that they are private and should not be used by external code. *__however, this is only a convention and does not stop external code from accessing them__*\n",
    "Its only actual effect is that __from module_name import \\*__ won't import variables that start with single underscore"
   ]
  },
  {
   "cell_type": "code",
   "execution_count": 15,
   "metadata": {},
   "outputs": [
    {
     "name": "stdout",
     "output_type": "stream",
     "text": [
      "Queue([1, 2, 3])\n",
      "Queue([1, 1, 2, 3])\n",
      "Queue([1, 1, 2])\n",
      "[1, 1, 2]\n"
     ]
    }
   ],
   "source": [
    "class Queue:\n",
    "    def __init__ (self, contents):\n",
    "        self._hiddenlist = list(contents) #one underscore for hiddenlist\n",
    "        \n",
    "    def push(self, value):\n",
    "        self._hiddenlist.insert(0, value)\n",
    "        \n",
    "    def pop (self):\n",
    "        return self._hiddenlist.pop(-1)\n",
    "    \n",
    "    def __repr__(self):    ## the __repr__ magic method is used for string representation of the instance\n",
    "        return \"Queue({})\".format(self._hiddenlist)\n",
    "    \n",
    "\n",
    "queue = Queue([1,2,3,])\n",
    "print(queue)\n",
    "queue.push(1)\n",
    "print(queue)\n",
    "queue.pop()\n",
    "print(queue)\n",
    "print(queue._hiddenlist)\n",
    "\n",
    "## in the code above, the attribue _hiddenlist is marked as private but it can still be accessed in the outside code"
   ]
  },
  {
   "cell_type": "markdown",
   "metadata": {},
   "source": [
    "__Stronly private__ methods and attributes have double underscores at the beggining of their names. this causes their names to be _mangled_. that is, **they can't be accessed from outside the class.** this is to avoid bugs if there are subclasses that have methods or attributes with thesame names\n",
    "mangled methods can still be accessed externally by by a diffferent name (object._Class__stronglyprivate)"
   ]
  },
  {
   "cell_type": "code",
   "execution_count": 2,
   "metadata": {},
   "outputs": [
    {
     "name": "stdout",
     "output_type": "stream",
     "text": [
      "7\n",
      "7\n"
     ]
    },
    {
     "ename": "AttributeError",
     "evalue": "'Spam' object has no attribute '__egg'",
     "output_type": "error",
     "traceback": [
      "\u001b[0;31m---------------------------------------------------------------------------\u001b[0m",
      "\u001b[0;31mAttributeError\u001b[0m                            Traceback (most recent call last)",
      "\u001b[0;32m<ipython-input-2-b5ed98bd7b21>\u001b[0m in \u001b[0;36m<module>\u001b[0;34m\u001b[0m\n\u001b[1;32m      8\u001b[0m \u001b[0ms\u001b[0m\u001b[0;34m.\u001b[0m\u001b[0mprint_egg\u001b[0m\u001b[0;34m(\u001b[0m\u001b[0;34m)\u001b[0m\u001b[0;34m\u001b[0m\u001b[0;34m\u001b[0m\u001b[0m\n\u001b[1;32m      9\u001b[0m \u001b[0mprint\u001b[0m\u001b[0;34m(\u001b[0m\u001b[0ms\u001b[0m\u001b[0;34m.\u001b[0m\u001b[0m_Spam__egg\u001b[0m\u001b[0;34m)\u001b[0m \u001b[0;31m## by including the classname, we can access __egg. (python protects those members internally by changing the name to include the class name)\u001b[0m\u001b[0;34m\u001b[0m\u001b[0;34m\u001b[0m\u001b[0m\n\u001b[0;32m---> 10\u001b[0;31m \u001b[0mprint\u001b[0m\u001b[0;34m(\u001b[0m\u001b[0ms\u001b[0m\u001b[0;34m.\u001b[0m\u001b[0m__egg\u001b[0m\u001b[0;34m)\u001b[0m   \u001b[0;31m## AttributeError because we a trying to to access a strongly private attribute directly from outside\u001b[0m\u001b[0;34m\u001b[0m\u001b[0;34m\u001b[0m\u001b[0m\n\u001b[0m",
      "\u001b[0;31mAttributeError\u001b[0m: 'Spam' object has no attribute '__egg'"
     ]
    }
   ],
   "source": [
    "\n",
    "class Spam:\n",
    "    __egg=7\n",
    "    def print_egg(self):\n",
    "        print(self.__egg)\n",
    "        \n",
    "        \n",
    "s = Spam()\n",
    "s.print_egg()\n",
    "print(s._Spam__egg) ## by including the classname, we can access __egg. (python protects those members internally by changing the name to include the class name)\n",
    "print(s.__egg)   ## AttributeError because we a trying to to access a strongly private attribute directly from outside"
   ]
  },
  {
   "cell_type": "code",
   "execution_count": null,
   "metadata": {},
   "outputs": [],
   "source": []
  }
 ],
 "metadata": {
  "kernelspec": {
   "display_name": "Python 3",
   "language": "python",
   "name": "python3"
  },
  "language_info": {
   "codemirror_mode": {
    "name": "ipython",
    "version": 3
   },
   "file_extension": ".py",
   "mimetype": "text/x-python",
   "name": "python",
   "nbconvert_exporter": "python",
   "pygments_lexer": "ipython3",
   "version": "3.8.8"
  }
 },
 "nbformat": 4,
 "nbformat_minor": 4
}
