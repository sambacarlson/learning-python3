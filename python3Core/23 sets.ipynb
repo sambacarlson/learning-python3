{
 "cells": [
  {
   "cell_type": "code",
   "execution_count": 3,
   "metadata": {},
   "outputs": [
    {
     "name": "stdout",
     "output_type": "stream",
     "text": [
      "True\n",
      "False\n"
     ]
    }
   ],
   "source": [
    "## sets are data structures similar to lists and dictionaries\n",
    "# they are created with curly braces or 'set' function\n",
    "nums={1,2,3,4,5}\n",
    "words=set(['hello', 'world','name', 'monday'])\n",
    "print(3 in nums)\n",
    "print(\"hello\" not in words)  # just like lists, sets have the functionality of 'in', 'len'"
   ]
  },
  {
   "cell_type": "code",
   "execution_count": 14,
   "metadata": {},
   "outputs": [
    {
     "name": "stdout",
     "output_type": "stream",
     "text": [
      "{1, 2, 3, 4, 5, 6}\n",
      "{1, 2, 3, 4, 5, 6, -7}\n",
      "{2, 3, 4, 5, 6, -7}\n",
      "{3, 4, 5, 6, -7}\n",
      "{4, 5, 6, -7}\n",
      "4\n"
     ]
    }
   ],
   "source": [
    "## sets cannot be indexed because they are unordered\n",
    "## sets cannont contain duplicate elements\n",
    "## It is faster to check if an element is part of a set than of a list due to the way sets are stored.\n",
    "## Instead of 'append' like with lists, sets use 'add' method\n",
    "## the 'remove' method removes a particular element from a set\n",
    "## the 'pop' method removes an arbirary element from a list\n",
    "\n",
    "nums=set(list(range(1,7)))\n",
    "print (nums)\n",
    "nums.add(-7)\n",
    "print (nums)\n",
    "nums.remove(1)\n",
    "print (nums)\n",
    "nums.pop()\n",
    "print(nums)\n",
    "nums.pop()\n",
    "print (nums)  ## okay this means pop removes elements one by one from the beginning of a set. ('pop()' function takes no arguments)\n",
    "print(len(nums))"
   ]
  },
  {
   "cell_type": "code",
   "execution_count": null,
   "metadata": {},
   "outputs": [],
   "source": [
    "## the basic uses of sets include membership testing and the elimination of duplicate entries"
   ]
  },
  {
   "cell_type": "code",
   "execution_count": 12,
   "metadata": {},
   "outputs": [
    {
     "name": "stdout",
     "output_type": "stream",
     "text": [
      "{1, 2, 3, 4, 5, 6, 7, 8, 9}\n",
      "{1, 2, 3, 7, 8, 9}\n",
      "{4, 5, 6}\n"
     ]
    }
   ],
   "source": [
    "# sets can be combined using mathematical operations\n",
    "\"\"\"\n",
    "union (|)   ## combines two sets to form one set containing elements in both sets\n",
    "intersection(&)  ## get only items found in both sets\n",
    "difference(-)  ## gets items in first but not in second\n",
    "symmentic difference (^)  ## gets items in either sets but not both.\n",
    "\"\"\"\n",
    "\n",
    "first={1,2,3,4,5,6}\n",
    "second={4,5,6,7,8,9}\n",
    "\n",
    "print(first|second)\n",
    "print(first^second)\n",
    "print(second&first)"
   ]
  },
  {
   "cell_type": "code",
   "execution_count": null,
   "metadata": {},
   "outputs": [],
   "source": [
    "\"\"\"\n",
    "DATA STRUCTURES\n",
    "===============\n",
    "Python supports the following data structures\n",
    "lists, tuples, dictionaries, sets\n",
    "\n",
    "When to use a dictionary: \n",
    "- when you need a logical association between a key:value  pair\n",
    "- when you need a fast lookup for your data, based on a custom key\n",
    "- when your data is being constantly modified. (dictionaries are mutable)\n",
    "\n",
    "When to use other data structure types\n",
    "- use lists if you have a collection of datat that does not need ramdom access. try to choose lists when you need a simple iterable collection that is modified frequently\n",
    "- use a set if you need  uniqueness for the elements\n",
    "- use tuples when you data cannot change\n",
    "\n",
    "many times, a tuple is used in combination with a dictionary. for example,  a tuple might represent a key, because they are not immutable\n",
    "\n",
    "\"\"\""
   ]
  }
 ],
 "metadata": {
  "kernelspec": {
   "display_name": "Python 3",
   "language": "python",
   "name": "python3"
  },
  "language_info": {
   "codemirror_mode": {
    "name": "ipython",
    "version": 3
   },
   "file_extension": ".py",
   "mimetype": "text/x-python",
   "name": "python",
   "nbconvert_exporter": "python",
   "pygments_lexer": "ipython3",
   "version": "3.7.6"
  }
 },
 "nbformat": 4,
 "nbformat_minor": 4
}
