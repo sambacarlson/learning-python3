{
 "cells": [
  {
   "cell_type": "code",
   "execution_count": 2,
   "metadata": {},
   "outputs": [
    {
     "name": "stdout",
     "output_type": "stream",
     "text": [
      "1\n",
      "2\n",
      "3\n",
      "4\n",
      "5\n"
     ]
    }
   ],
   "source": [
    "## WHILE LOOP\n",
    "y=1\n",
    "while y<=5:\n",
    "    print(y)\n",
    "    y+=1                ##Remember that indentation means a lot in python"
   ]
  },
  {
   "cell_type": "code",
   "execution_count": 3,
   "metadata": {},
   "outputs": [
    {
     "name": "stdout",
     "output_type": "stream",
     "text": [
      "0\n",
      "2\n",
      "4\n",
      "6\n",
      "8\n",
      "10\n",
      "12\n",
      "14\n"
     ]
    }
   ],
   "source": [
    "#this while loop prints even numbers between 0 and 15\n",
    "i=0\n",
    "while i<=15:\n",
    "    print (i)\n",
    "    i+=2\n",
    "    "
   ]
  },
  {
   "cell_type": "code",
   "execution_count": 7,
   "metadata": {},
   "outputs": [
    {
     "name": "stdout",
     "output_type": "stream",
     "text": [
      "0\n",
      "2\n",
      "4\n",
      "6\n",
      "loop broken\n"
     ]
    }
   ],
   "source": [
    "##Break statements are used to end while loops prematurely. \n",
    "#this while loop prints even numbers between 0 and 15\n",
    "i=0\n",
    "while i<=15:\n",
    "    print (i)\n",
    "    i+=2\n",
    "    if i>=8:\n",
    "        print(\"loop broken\")\n",
    "        break"
   ]
  },
  {
   "cell_type": "code",
   "execution_count": 4,
   "metadata": {},
   "outputs": [
    {
     "name": "stdout",
     "output_type": "stream",
     "text": [
      "2\n",
      "4\n",
      "6\n",
      "skipped\n",
      "10\n",
      "skipped\n",
      "14\n",
      "16\n",
      "18\n",
      "20\n",
      "breaking...\n",
      "loop terminated\n"
     ]
    }
   ],
   "source": [
    "##continue statement can be used to to jump values in the loop\n",
    "#this while loop prints all positive even numbers\n",
    "i=0\n",
    "while True:  ##capital T\n",
    "    i+=2\n",
    "    if i==8:\n",
    "        print(\"skipped\")\n",
    "        continue\n",
    "    if i==12:\n",
    "        print(\"skipped\")\n",
    "        continue\n",
    "    if i>=21:\n",
    "        print(\"breaking...\")\n",
    "        print (\"loop terminated\")\n",
    "        break\n",
    "    print (i)"
   ]
  },
  {
   "cell_type": "code",
   "execution_count": null,
   "metadata": {},
   "outputs": [],
   "source": []
  }
 ],
 "metadata": {
  "kernelspec": {
   "display_name": "Python 3",
   "language": "python",
   "name": "python3"
  },
  "language_info": {
   "codemirror_mode": {
    "name": "ipython",
    "version": 3
   },
   "file_extension": ".py",
   "mimetype": "text/x-python",
   "name": "python",
   "nbconvert_exporter": "python",
   "pygments_lexer": "ipython3",
   "version": "3.8.8"
  }
 },
 "nbformat": 4,
 "nbformat_minor": 4
}
