{
 "cells": [
  {
   "cell_type": "code",
   "execution_count": 1,
   "metadata": {},
   "outputs": [
    {
     "name": "stdout",
     "output_type": "stream",
     "text": [
      "enter file name:new.txt\n"
     ]
    }
   ],
   "source": [
    "##You can use python to open and manipulate files. Text files are the easiest to manipulate\n",
    "##Syntax to open files: \n",
    "# VariableName=open(\"fullpath.extention\")\n",
    "filename=input(\"enter file name:\")\n",
    "Myfile= open(filename) ## if file is in thesame directory of the program, you can specify only its name\n",
    "#you can add a second argument to the open function to specify the open mode\n",
    "#'r' read mode, 'w' Write mode, 'a' Append mode \"b\": Adding 'b' to a mode opens it in binary mode. this is used for non-text files\n",
    "#files should always be closed after used. this is done with the close method\n",
    "Myfile.close()\n",
    "\n",
    "\n"
   ]
  },
  {
   "cell_type": "code",
   "execution_count": 4,
   "metadata": {},
   "outputs": [
    {
     "name": "stdout",
     "output_type": "stream",
     "text": [
      "enter file name:new.txt\n",
      "This text document has been created to test the working of files in python 3\n",
      "Python is awesome language and with the power of working with files in python,\n",
      "We will be able to open and modify this file as we see fit\n"
     ]
    }
   ],
   "source": [
    "##Reading contents of files:\n",
    "filename=input(\"enter file name:\")\n",
    "file=open(filename, \"r\") #opened new.txt in read mode and called it file\n",
    "inside=file.read() #assigned 'read file' function to variable called 'inside'\n",
    "print(inside) #print inside which is now the content of new.txt\n",
    "file.close() #closed the file after use\n",
    "## After all cotents of a file are read, further attempts to read the file will return an empty string because you are trying to read from the end of the file"
   ]
  },
  {
   "cell_type": "code",
   "execution_count": 5,
   "metadata": {},
   "outputs": [
    {
     "name": "stdout",
     "output_type": "stream",
     "text": [
      "enter file name:new.txt\n",
      "This text docume\n",
      "nt h\n",
      "as been \n",
      "created to test the working of files in python 3\n",
      "Python is awesome language and with the power of working with files in python,\n",
      "We will be able to open and modify this file as we see fit\n"
     ]
    }
   ],
   "source": [
    "# you can read only some amount of a file by passing a number as and argument to the read function. this number will specify the bytes to be read\n",
    "# you can pass multiple calls to read byte by byte and you can call 'read' with no arguments to return the rest of the file like so\n",
    "\n",
    "filename=input(\"enter file name:\")\n",
    "file=open(filename, \"r\")\n",
    "print (file.read(16))\n",
    "print (file.read (4))\n",
    "print (file.read(8))\n",
    "print(file.read()) #negative values will act as though no argument is passed\n",
    "file.close() ## it is worth noticing that 1 byte = 1 character"
   ]
  },
  {
   "cell_type": "code",
   "execution_count": 6,
   "metadata": {},
   "outputs": [
    {
     "name": "stdout",
     "output_type": "stream",
     "text": [
      "enter file name:new.txt\n",
      "This t\n",
      "ext do\n",
      "cument\n",
      " has b\n",
      "een cr\n",
      "eated \n",
      "to tes\n",
      "172\n"
     ]
    }
   ],
   "source": [
    "## Example\n",
    "\n",
    "filename=input(\"enter file name:\")\n",
    "file=open(filename,\"r\") ## Open new.txt and call it file\n",
    "y=file.read              ##let file.read be y\n",
    "x=list(range(1,8)) ##create a list of numbers from 1 to 7 and call it x\n",
    "for i in x:       ## for each value in list x, (7 values or numbers), \n",
    "    print(y(x[5]))  ##print x[5] bytes(which is 6 bytes) each from new.text. 7 lines are therefore printed with each line having 6 bytes. \n",
    "print(len(y())) ## This will return the number of characters in in the file. note that we have used y() because we didn't call file.read as a function that is (y=file.read())\n",
    "file.close() "
   ]
  },
  {
   "cell_type": "code",
   "execution_count": 1,
   "metadata": {},
   "outputs": [
    {
     "name": "stdout",
     "output_type": "stream",
     "text": [
      "This text document has been created to test the working of files in python 3\n",
      "\n"
     ]
    }
   ],
   "source": [
    "## Readline method\n",
    "# to retrive each line in a file\n",
    "filename=input(\"enter file name:\")\n",
    "file=open(filename, \"r\")\n",
    "print(file.readlines())\n",
    "file.close()"
   ]
  },
  {
   "cell_type": "code",
   "execution_count": 8,
   "metadata": {},
   "outputs": [
    {
     "name": "stdout",
     "output_type": "stream",
     "text": [
      "enter file name:new.txt\n",
      "This text document has been created to test the working of files in python 3\n",
      "\n",
      "Python is awesome language and with the power of working with files in python,\n",
      "\n",
      "We will be able to open and modify this file as we see fit\n"
     ]
    }
   ],
   "source": [
    "## we can use for loop to iterate through the lines\n",
    "filename=input(\"enter file name:\")\n",
    "file=open(filename, \"r\")\n",
    "for line in file:\n",
    "    print (line)\n",
    "file.close()"
   ]
  },
  {
   "cell_type": "code",
   "execution_count": 10,
   "metadata": {},
   "outputs": [
    {
     "name": "stdout",
     "output_type": "stream",
     "text": [
      "enter file name:new.txt\n",
      "This text document has been created to test the working of files in python 3\n",
      "Python is awesome language and with the power of working with files in python,\n",
      "We will be able to open and modify this file as we see fit\n",
      "This text document has been created to test the working of files in python 3\n",
      "Python is awesome language and with the power of working with files in python,\n",
      "We will be able to open and modify this file as we see fit\n"
     ]
    }
   ],
   "source": [
    "##one way of making sure files are closed after they are used (to avoid waste of resources) is using try and finally\n",
    "filename=input(\"enter file name:\")\n",
    "try:\n",
    "    f=open(filename)\n",
    "    print(f.read())\n",
    "finally:\n",
    "    f.close()\n",
    "    \n",
    "    \n",
    "## alternatively, you can use 'with' statement. it authomatically closes the file afte the 'with' block\n",
    "with open(filename) as f:\n",
    "    print(f.read())"
   ]
  },
  {
   "cell_type": "code",
   "execution_count": null,
   "metadata": {},
   "outputs": [],
   "source": []
  }
 ],
 "metadata": {
  "kernelspec": {
   "display_name": "Python 3.8.8 ('base')",
   "language": "python",
   "name": "python3"
  },
  "language_info": {
   "codemirror_mode": {
    "name": "ipython",
    "version": 3
   },
   "file_extension": ".py",
   "mimetype": "text/x-python",
   "name": "python",
   "nbconvert_exporter": "python",
   "pygments_lexer": "ipython3",
   "version": "3.8.8"
  },
  "vscode": {
   "interpreter": {
    "hash": "1736df6a7dfdf64c224f14593768c7974338ca65bb2fb0d6b90b526b6c35999f"
   }
  }
 },
 "nbformat": 4,
 "nbformat_minor": 4
}
