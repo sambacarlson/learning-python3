{
 "cells": [
  {
   "cell_type": "code",
   "execution_count": 1,
   "metadata": {},
   "outputs": [
    {
     "name": "stdout",
     "output_type": "stream",
     "text": [
      "Unbroken 1\n"
     ]
    }
   ],
   "source": [
    "# The else statement is commonly used along with the if statement, but it can also follow a for or a while loop, which\n",
    "# gives a different meaning\n",
    "# with for or while loop, the code within it is called if the loop finishes normally (when a break statement does not \n",
    " # cause an exit from the loop).\n",
    "    \n",
    "for i in range(10):\n",
    "    if i==999:\n",
    "        break\n",
    "else:\n",
    "    print(\"Unbroken 1\")\n",
    "for i in range(10):\n",
    "    if i==5:\n",
    "        break\n",
    "else:\n",
    "    print(\"unbroken 2\")\n",
    "# the first loop executes normally hence, unbroken 1 is printed\n",
    "# the second loop exits due to a break which is why the else statement is not executed"
   ]
  },
  {
   "cell_type": "code",
   "execution_count": 2,
   "metadata": {},
   "outputs": [
    {
     "name": "stdout",
     "output_type": "stream",
     "text": [
      "1\n",
      "3\n",
      "4\n"
     ]
    }
   ],
   "source": [
    "## The else statement can also be used with try/except statement\n",
    "# in this case, the code within it is only executed if no error occurs in the try statement.\n",
    "\n",
    "try:\n",
    "    print(1)\n",
    "except ZeroDivisionError:\n",
    "    print(2)\n",
    "else:\n",
    "    print(3)\n",
    "try:\n",
    "    print(1/0)\n",
    "except ZeroDivisionError:\n",
    "    print(4)\n",
    "else:\n",
    "    print(5)"
   ]
  },
  {
   "cell_type": "code",
   "execution_count": null,
   "metadata": {},
   "outputs": [],
   "source": []
  }
 ],
 "metadata": {
  "kernelspec": {
   "display_name": "Python 3",
   "language": "python",
   "name": "python3"
  },
  "language_info": {
   "codemirror_mode": {
    "name": "ipython",
    "version": 3
   },
   "file_extension": ".py",
   "mimetype": "text/x-python",
   "name": "python",
   "nbconvert_exporter": "python",
   "pygments_lexer": "ipython3",
   "version": "3.8.8"
  }
 },
 "nbformat": 4,
 "nbformat_minor": 4
}
