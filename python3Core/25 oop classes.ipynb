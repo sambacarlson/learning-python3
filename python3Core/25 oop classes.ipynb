{
 "cells": [
  {
   "cell_type": "markdown",
   "metadata": {},
   "source": [
    "## Classes are blueprints for objects. \n",
    "#### they contain methods(functions) "
   ]
  },
  {
   "cell_type": "code",
   "execution_count": 2,
   "metadata": {},
   "outputs": [],
   "source": [
    "class Cat:\n",
    "    def __init__(self, color, legs): # we have created a class 'Cat', which takes two attributes (color and legs)\n",
    "        self.color = color # the attributes are assigned (to color and legs). self is the instance\n",
    "        self.legs = legs\n",
    "        \n",
    "        \n",
    "felix = Cat(\"ginger\", 4)\n",
    "rover = Cat(\"dog-colored\", 3)\n"
   ]
  },
  {
   "cell_type": "markdown",
   "metadata": {},
   "source": [
    "- The **\\_\\_init\\_\\_** is the most important method of a class and is called when an instance (object) of a class is created<br>\n",
    "- all methods must have self as their first parameter. it must not be explisitly passed; python will add it for you.\n",
    "- Within a method definition, self refers to the instance calling the method\n",
    "- The **\\_\\_init\\_\\_** method is called the class constructor"
   ]
  },
  {
   "cell_type": "code",
   "execution_count": 1,
   "metadata": {},
   "outputs": [
    {
     "name": "stdout",
     "output_type": "stream",
     "text": [
      "Fido\n",
      "WOOF!\n",
      "Brown\n"
     ]
    }
   ],
   "source": [
    "## classes can have other methods to add functionality like so;\n",
    "\n",
    "class Dog:\n",
    "    def __init__(self, name, color):\n",
    "        self.name = name\n",
    "        self.color = color\n",
    "        \n",
    "    def bark(self):\n",
    "        print(\"WOOF!\")\n",
    "        \n",
    "        \n",
    "fido = Dog(\"Fido\", \"Brown\")\n",
    "print (fido.name)\n",
    "fido.bark()\n",
    "print (fido.color)"
   ]
  },
  {
   "cell_type": "code",
   "execution_count": null,
   "metadata": {},
   "outputs": [],
   "source": []
  }
 ],
 "metadata": {
  "kernelspec": {
   "display_name": "Python 3",
   "language": "python",
   "name": "python3"
  },
  "language_info": {
   "codemirror_mode": {
    "name": "ipython",
    "version": 3
   },
   "file_extension": ".py",
   "mimetype": "text/x-python",
   "name": "python",
   "nbconvert_exporter": "python",
   "pygments_lexer": "ipython3",
   "version": "3.8.8"
  }
 },
 "nbformat": 4,
 "nbformat_minor": 4
}
