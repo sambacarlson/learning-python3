{
 "cells": [
  {
   "cell_type": "code",
   "execution_count": 29,
   "metadata": {},
   "outputs": [
    {
     "name": "stdout",
     "output_type": "stream",
     "text": [
      "============\n",
      "Hello World!\n",
      "============\n"
     ]
    }
   ],
   "source": [
    "# decorators provide a way to modify functions using other functions\n",
    "# this is ideal when you want to extend functionality of fucntions that you don't want to modify\n",
    "\n",
    "def decor (func):\n",
    "    def wrap():\n",
    "        print(\"============\")\n",
    "        func()\n",
    "        print(\"============\") \n",
    "    return wrap\n",
    "\n",
    "def print_text():\n",
    "    print(\"Hello World!\")\n",
    "    \n",
    "decorated=decor(print_text)\n",
    "decorated()"
   ]
  },
  {
   "cell_type": "code",
   "execution_count": 26,
   "metadata": {},
   "outputs": [
    {
     "name": "stdout",
     "output_type": "stream",
     "text": [
      "============\n",
      "Hello World!\n",
      "============\n",
      "============\n",
      "Hello World!\n",
      "============\n"
     ]
    }
   ],
   "source": [
    "## I changed the code a bit but to do the same thing \n",
    "def print_text():\n",
    "    print(\"Hello World!\") ## a function that prints a simple string\n",
    "def decor (func):\n",
    "    print(\"============\")\n",
    "    func()\n",
    "    print(\"============\")  # the functin 'decor' prints a string, calls a function and then prints another string.\n",
    "\n",
    "decor(print_text) # decor is called and print_text is passed as an argument to it\n",
    "\n",
    "print_text=decor(print_text) # also works fine"
   ]
  },
  {
   "cell_type": "code",
   "execution_count": 33,
   "metadata": {},
   "outputs": [
    {
     "name": "stdout",
     "output_type": "stream",
     "text": [
      "============\n",
      "Hello World!\n",
      "============\n"
     ]
    }
   ],
   "source": [
    "# pythonn provides support to wrap a function in a decorator by pre-pending the function definition with a decorator name and\n",
    "# the @ symbol like so\n",
    "# a single function can have multiple decorators\n",
    "\n",
    "def decor (func):\n",
    "    print(\"============\")\n",
    "    func()\n",
    "    print(\"============\") \n",
    "\n",
    "@decor \n",
    "def print_text():\n",
    "    print(\"Hello World!\")\n"
   ]
  },
  {
   "cell_type": "code",
   "execution_count": null,
   "metadata": {},
   "outputs": [],
   "source": []
  }
 ],
 "metadata": {
  "kernelspec": {
   "display_name": "Python 3",
   "language": "python",
   "name": "python3"
  },
  "language_info": {
   "codemirror_mode": {
    "name": "ipython",
    "version": 3
   },
   "file_extension": ".py",
   "mimetype": "text/x-python",
   "name": "python",
   "nbconvert_exporter": "python",
   "pygments_lexer": "ipython3",
   "version": "3.8.3"
  }
 },
 "nbformat": 4,
 "nbformat_minor": 4
}
