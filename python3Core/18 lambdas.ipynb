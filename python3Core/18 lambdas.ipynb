{
 "cells": [
  {
   "cell_type": "code",
   "execution_count": 9,
   "metadata": {},
   "outputs": [
    {
     "name": "stdout",
     "output_type": "stream",
     "text": [
      "0\n",
      "2.4\n",
      "50\n"
     ]
    }
   ],
   "source": [
    "## LAMBDAS\n",
    "# this is a way of creating functions on the fly (without assigning them to a variable). they are anonymous functions and are \n",
    "# usually often used when you want to pass a symple function as an argument in another function\n",
    "# they are not as powerful as named functions. they can only do things that require a single expression\n",
    "## example\n",
    "print((lambda x: x**2+5*x+4)(-4))  #-4 is passed into x\n",
    "\n",
    "print((lambda x,y: (y*x)/(y+x))(6,4)) # x and y are passed into the function\n",
    "\n",
    "## in the following example,an anonymous function is passed into my_func function\n",
    "def my_func (f, arg):\n",
    "    return f(arg)\n",
    "print(my_func(lambda x: 2*x**2, 5))   ## 'f' is the lambda fucntion and 'arg' is 5\n"
   ]
  },
  {
   "cell_type": "code",
   "execution_count": 11,
   "metadata": {},
   "outputs": [
    {
     "name": "stdout",
     "output_type": "stream",
     "text": [
      "14\n"
     ]
    }
   ],
   "source": [
    "## we can still assingn lambdas to variables and use them like normal fucntions\n",
    "double=lambda x:x*2\n",
    "print(double(7)) ## there is rarely any good reason to do this though. it is usually better to use function wiht def instead"
   ]
  },
  {
   "cell_type": "code",
   "execution_count": 12,
   "metadata": {},
   "outputs": [
    {
     "name": "stdout",
     "output_type": "stream",
     "text": [
      "13\n"
     ]
    }
   ],
   "source": [
    "triple=lambda x: x*3\n",
    "add=lambda x,y: x+y\n",
    "print(add(triple(3),4))"
   ]
  },
  {
   "cell_type": "code",
   "execution_count": 6,
   "metadata": {
    "scrolled": true
   },
   "outputs": [
    {
     "name": "stdout",
     "output_type": "stream",
     "text": [
      "20\n"
     ]
    },
    {
     "data": {
      "text/plain": [
       "'\\nthe above function is not pure because it changed the state of some_list.\\n'"
      ]
     },
     "execution_count": 6,
     "metadata": {},
     "output_type": "execute_result"
    }
   ],
   "source": [
    "\"\"\"\n",
    "FUNCTIONAL PROGRAMMING\n",
    "======================\n",
    "\n",
    "Functional programming is a style of programming based around functions. A key part of functional programming is higher-order\n",
    "functions. Higher order fucntions take other functions as their arguments or return them as results\n",
    "example;\n",
    "\"\"\"\n",
    "def apply_twice(func, arg):\n",
    "    return func(func(arg))\n",
    "def add_five(x):\n",
    "    return x+5\n",
    "print (apply_twice(add_five, 10))\n",
    "\"\"\"\n",
    "The function apply_twice takes another function as its argument, and calls it twice inside it's body\n",
    "\n",
    "PURE FUNCTIONS\n",
    "functional programming seeks to use pure functions\n",
    "pure functions have no side effects, and return a value that depends only on their arguments.\n",
    "This is how fucntions in maths work. for example, cos(x) will for thesame value of x, always return the same result. following \n",
    "are examples of pure and impure functions\n",
    "\"\"\"\n",
    "def pure(x,y):\n",
    "    temp=x+2*y\n",
    "    return temp/2*x+y\n",
    "\n",
    "some_list=[]\n",
    "def impure(arg):\n",
    "    some_list.append(arg)\n",
    "    \n",
    "\"\"\"\n",
    "the above function is not pure because it changed the state of some_list.\n",
    "\n",
    "Pure functions have both advantages and disadvantages.\n",
    "Pure functions are;\n",
    "- easier to reason about and test\n",
    "- more efficient. once the functions has been evaluated for an input, the result can be stored and referred to the next time\n",
    "  the function of that input is needed, reducing the number of times the function is called. This is called memoization.\n",
    "-easier to run in parallel.\n",
    "\n",
    "the main disadvantage of using only pure functions is that they majorly complicate the otherwise simple task of I/O, since this\n",
    "appears to inherently require side effects. They can also be more difficult to write in some situations.\n",
    "\"\"\""
   ]
  },
  {
   "cell_type": "code",
   "execution_count": null,
   "metadata": {},
   "outputs": [],
   "source": []
  }
 ],
 "metadata": {
  "kernelspec": {
   "display_name": "Python 3",
   "language": "python",
   "name": "python3"
  },
  "language_info": {
   "codemirror_mode": {
    "name": "ipython",
    "version": 3
   },
   "file_extension": ".py",
   "mimetype": "text/x-python",
   "name": "python",
   "nbconvert_exporter": "python",
   "pygments_lexer": "ipython3",
   "version": "3.8.3"
  }
 },
 "nbformat": 4,
 "nbformat_minor": 4
}
