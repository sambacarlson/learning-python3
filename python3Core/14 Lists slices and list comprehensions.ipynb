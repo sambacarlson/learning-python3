{
 "cells": [
  {
   "cell_type": "code",
   "execution_count": 49,
   "metadata": {},
   "outputs": [
    {
     "name": "stdout",
     "output_type": "stream",
     "text": [
      "[1, 2, 3, 4, 5, 6, 7]\n",
      "[8, 9]\n",
      "[4, 5, 6]\n",
      "[1]\n",
      "[1, 3, 5, 7, 9]\n",
      "[5, 6, 7]\n",
      "[8, 7, 6]\n",
      "[9, 8, 7, 6, 5, 4, 3, 2, 1]\n"
     ]
    }
   ],
   "source": [
    "### LIST SLICES\n",
    "# List slices provide a more advanced way of retrieving values from a list.\n",
    "nums=[1,2,3,4,5,6,7,8,9,]\n",
    "#print (nums)\n",
    "print(nums[:7]) ##prints from 0th to 6th index\n",
    "print(nums[7:]) ## prints from the 7th to the last index\n",
    "print(nums[3:6]) ## prints from the 3rd to the 5th index \n",
    "print(nums[0:1]) ## prints the 0th index\n",
    "print(nums[::2]) ## prints the list in steps of 2\n",
    "print(nums[4:-2]) ## indexes from the negative direction but prints normally\n",
    "print(nums[7:4:-1]) ## reverses the list in steps of 2\n",
    "print(nums[::-1]) ##common way to reverse a list"
   ]
  },
  {
   "cell_type": "code",
   "execution_count": 56,
   "metadata": {},
   "outputs": [
    {
     "name": "stdout",
     "output_type": "stream",
     "text": [
      "[0, 1, 4, 9, 16]\n",
      "[0, 8, 64, 216, 512, 1000, 1728, 2744, 4096, 5832, 8000, 10648, 13824, 17576, 21952, 27000, 32768, 39304, 46656, 54872]\n"
     ]
    }
   ],
   "source": [
    "## LIST COMPREHENSIONS\n",
    "# list comprehensions are a useful way of quickly creating lists that obey a simple rule (like sequences)\n",
    "squares=[i**2 for i in range(5)]\n",
    "print(squares)\n",
    "\n",
    "# list comprehensions can also contain if statement\n",
    "evens=[i**3 for i in range(40) if i%2==0]\n",
    "print(evens)"
   ]
  },
  {
   "cell_type": "code",
   "execution_count": null,
   "metadata": {},
   "outputs": [],
   "source": []
  }
 ],
 "metadata": {
  "kernelspec": {
   "display_name": "Python 3",
   "language": "python",
   "name": "python3"
  },
  "language_info": {
   "codemirror_mode": {
    "name": "ipython",
    "version": 3
   },
   "file_extension": ".py",
   "mimetype": "text/x-python",
   "name": "python",
   "nbconvert_exporter": "python",
   "pygments_lexer": "ipython3",
   "version": "3.8.8"
  }
 },
 "nbformat": 4,
 "nbformat_minor": 4
}
