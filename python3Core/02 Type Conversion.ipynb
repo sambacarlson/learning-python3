{
 "cells": [
  {
   "cell_type": "code",
   "execution_count": 1,
   "metadata": {},
   "outputs": [
    {
     "name": "stdout",
     "output_type": "stream",
     "text": [
      "63.0\n",
      "60\n",
      "<class 'str'>\n"
     ]
    }
   ],
   "source": [
    "x=\"6\" ## x is of type char\n",
    "x+=\"0\" ## add char 0 to x and store in x\n",
    "y=int(x)+3 ##convert x to int, add 3 to it and store the result in y\n",
    "print(float(y)) ##print the value of y as float\n",
    "print (x)\n",
    "print(type(x))"
   ]
  },
  {
   "cell_type": "code",
   "execution_count": 3,
   "metadata": {},
   "outputs": [
    {
     "name": "stdout",
     "output_type": "stream",
     "text": [
      "enter your name:Carlson\n",
      "hello Carlson\n"
     ]
    }
   ],
   "source": [
    "your_name=input(\"enter your name:\") ##input from the keyboard and store the value in variable 'your_name'\n",
    "print(\"hello\"+\" \"+your_name) # print hello + yourname"
   ]
  },
  {
   "cell_type": "code",
   "execution_count": 5,
   "metadata": {},
   "outputs": [
    {
     "name": "stdout",
     "output_type": "stream",
     "text": [
      "72.0\n"
     ]
    }
   ],
   "source": [
    "x=4\n",
    "y=x+3\n",
    "y= int(str(y)+\"2\") ##convert y, whichh is now 7, to a string, add it to char 2, making char 72\n",
    "print(float(y)) ## print y as float"
   ]
  },
  {
   "cell_type": "code",
   "execution_count": null,
   "metadata": {},
   "outputs": [],
   "source": []
  }
 ],
 "metadata": {
  "kernelspec": {
   "display_name": "Python 3",
   "language": "python",
   "name": "python3"
  },
  "language_info": {
   "codemirror_mode": {
    "name": "ipython",
    "version": 3
   },
   "file_extension": ".py",
   "mimetype": "text/x-python",
   "name": "python",
   "nbconvert_exporter": "python",
   "pygments_lexer": "ipython3",
   "version": "3.8.8"
  }
 },
 "nbformat": 4,
 "nbformat_minor": 4
}
