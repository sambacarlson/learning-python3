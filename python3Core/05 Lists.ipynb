{
 "cells": [
  {
   "cell_type": "code",
   "execution_count": 2,
   "metadata": {},
   "outputs": [
    {
     "name": "stdout",
     "output_type": "stream",
     "text": [
      "2.1\n",
      "2\n",
      "0\n",
      "string\n"
     ]
    }
   ],
   "source": [
    "##LISTS\n",
    "## lists are objects in python used used to store indexed list of items. they are different from arrays\n",
    "num=4\n",
    "things =[\"string\", 0, [1,2,num], 2.1]\n",
    "print(things[3])\n",
    "print (things[2][1])\n",
    "print(things[1])\n",
    "print(things[0])   ##Any variable types can be stored in the same list and we can even put lists in lists"
   ]
  },
  {
   "cell_type": "code",
   "execution_count": 2,
   "metadata": {},
   "outputs": [
    {
     "name": "stdout",
     "output_type": "stream",
     "text": [
      "W\n"
     ]
    }
   ],
   "source": [
    "## you can index strings like lists with each character as item of the list\n",
    "srr=\"Hello World\"\n",
    "print(srr[5]) ##index number 5 is the space between the words ans is treated like a character itself. hence the program prints an empty space"
   ]
  },
  {
   "cell_type": "code",
   "execution_count": 3,
   "metadata": {},
   "outputs": [
    {
     "name": "stdout",
     "output_type": "stream",
     "text": [
      "[1, 2, 3, 4, 5, 6, 7]\n",
      "[1, 2, 3, 4, 5, 6, 7, 8, 9, 10]\n",
      "[1, 2, 3, 4, 5, 6, 7, 1, 2, 3, 4, 5, 6, 7, 1, 2, 3, 4, 5, 6, 7]\n",
      "True\n",
      "True\n",
      "False\n",
      "True\n"
     ]
    }
   ],
   "source": [
    "##List operations\n",
    "nums=[1,2,2,4,5,6,7]\n",
    "\n",
    "#items in list can be reassigned\n",
    "nums[2]=3  \n",
    "print (nums)\n",
    "\n",
    "#lists can be added and multiplied just like strings\n",
    "print(nums+[8,9,10])\n",
    "print(nums*3)\n",
    "\n",
    "# use the 'in' and 'not' operators respectively, to check if or not an item occurs in a list. the program returns true or false\n",
    "print(3 in nums)\n",
    "print(1 in nums)\n",
    "print(not 5 in nums)\n",
    "print (not 0 in nums)"
   ]
  },
  {
   "cell_type": "code",
   "execution_count": 22,
   "metadata": {},
   "outputs": [
    {
     "name": "stdout",
     "output_type": "stream",
     "text": [
      "[1, 2, 3, 4]\n",
      "4\n",
      "[1, 2, 'and', 3, 4]\n",
      "2\n"
     ]
    }
   ],
   "source": [
    "##list functions\n",
    "#there are functions (methods) that can be used with lists. methods are like fucntions but they run on objects\n",
    "nums=[1,2,3,]\n",
    "\n",
    "nums.append(4) #append method adds an item to an existing list\n",
    "print(nums)\n",
    "\n",
    "print(len(nums)) #unlike append, len is a function\n",
    "\n",
    "nums.insert(2,\"and\") #insert method adds an item at a particular place in the list. here at index number 2\n",
    "print(nums)\n",
    "\n",
    "print(nums.index('and')) # index method finds the first occurence of an item in a list and returns its index. if item not found, it raises a value error\n"
   ]
  },
  {
   "cell_type": "code",
   "execution_count": null,
   "metadata": {},
   "outputs": [],
   "source": [
    "\"\"\"\n",
    "other useful functions and methods include; \n",
    "max(list) # returns item with maximum value\n",
    "min(list) # returns item with minimum value\n",
    "list.count(obj) # returns a count of how many times an item occurs in a list\n",
    "list.remove(obj) # removes an object from a list\n",
    "list.reverse() # reverses objects in a list\n",
    "\"\"\""
   ]
  },
  {
   "cell_type": "code",
   "execution_count": 25,
   "metadata": {},
   "outputs": [
    {
     "name": "stdout",
     "output_type": "stream",
     "text": [
      "[0, 1, 2, 3, 4, 5, 6, 7, 8, 9]\n",
      "[3, 4, 5, 6, 7, 8]\n",
      "[3, 6, 9, 12, 15]\n"
     ]
    }
   ],
   "source": [
    "##The range function\n",
    "#the range function creates a sequencial list of numbers\n",
    "numbers=list(range(10)) #list is called here to convert the created range objects to a list object. this is not compulsory unless you want to use the generated items as a list as in our case\n",
    "print(numbers)\n",
    "\n",
    "#range called with one argument produces an object with values from 0 to that argument (concepts of indexing applied)\n",
    "#calling a range with two arguments produces values from first to sencond arguments\n",
    "nums =list(range(3,9))\n",
    "print(nums)\n",
    "\n",
    "#a third argument can be used to give the interval of the sequence\n",
    "num =list(range(3,18,3))\n",
    "print(num)\n"
   ]
  },
  {
   "cell_type": "code",
   "execution_count": 1,
   "metadata": {},
   "outputs": [
    {
     "name": "stdout",
     "output_type": "stream",
     "text": [
      "hello\n"
     ]
    }
   ],
   "source": [
    "print (\"hello\")"
   ]
  },
  {
   "cell_type": "code",
   "execution_count": null,
   "metadata": {},
   "outputs": [],
   "source": []
  }
 ],
 "metadata": {
  "kernelspec": {
   "display_name": "Python 3",
   "language": "python",
   "name": "python3"
  },
  "language_info": {
   "codemirror_mode": {
    "name": "ipython",
    "version": 3
   },
   "file_extension": ".py",
   "mimetype": "text/x-python",
   "name": "python",
   "nbconvert_exporter": "python",
   "pygments_lexer": "ipython3",
   "version": "3.8.8"
  }
 },
 "nbformat": 4,
 "nbformat_minor": 4
}
