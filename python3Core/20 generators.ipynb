{
 "cells": [
  {
   "cell_type": "code",
   "execution_count": 12,
   "metadata": {},
   "outputs": [
    {
     "name": "stdout",
     "output_type": "stream",
     "text": [
      "5\n",
      "4\n",
      "3\n",
      "2\n",
      "1\n"
     ]
    }
   ],
   "source": [
    "## generators are a type of iterables like lists but they cannot be indexed with arbitrary indices but they can still iterated through with for loops\n",
    "## they can be created using a function and a 'yield' statement\n",
    "def countdown():\n",
    "    i=5\n",
    "    while i>=1:\n",
    "        yield i\n",
    "        i-=1\n",
    "for i in countdown():\n",
    "        print(i)"
   ]
  },
  {
   "cell_type": "code",
   "execution_count": 3,
   "metadata": {},
   "outputs": [],
   "source": [
    "## since generators yield one one element at a time, they have no memory restrictions. they can be infinite\n",
    "def infinite_fives():\n",
    "    while True:\n",
    "        yield 5\n",
    "for i in infinite_fives():\n",
    "       print (i)   # if you run this code, it will print 5 infinitely. to stop it, I have no idea. yet I mean"
   ]
  },
  {
   "cell_type": "code",
   "execution_count": null,
   "metadata": {},
   "outputs": [],
   "source": []
  }
 ],
 "metadata": {
  "kernelspec": {
   "display_name": "Python 3",
   "language": "python",
   "name": "python3"
  },
  "language_info": {
   "codemirror_mode": {
    "name": "ipython",
    "version": 3
   },
   "file_extension": ".py",
   "mimetype": "text/x-python",
   "name": "python",
   "nbconvert_exporter": "python",
   "pygments_lexer": "ipython3",
   "version": "3.8.8"
  }
 },
 "nbformat": 4,
 "nbformat_minor": 4
}
