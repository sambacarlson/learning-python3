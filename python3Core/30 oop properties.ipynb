{
 "cells": [
  {
   "cell_type": "markdown",
   "metadata": {},
   "source": [
    "## Properties\n",
    "- properties provide a way of customizing access to the instance attributes.\n",
    "- they are created by putting the __property__ decorator above the method\n",
    "- which means, __when the instance attribute with the same name as the method is accessed, the method will be called instead.__\n",
    "- one common use of a property is to make an attribute read-only"
   ]
  },
  {
   "cell_type": "code",
   "execution_count": 2,
   "metadata": {},
   "outputs": [
    {
     "name": "stdout",
     "output_type": "stream",
     "text": [
      "False\n"
     ]
    },
    {
     "ename": "AttributeError",
     "evalue": "can't set attribute",
     "output_type": "error",
     "traceback": [
      "\u001b[1;31m---------------------------------------------------------------------------\u001b[0m",
      "\u001b[1;31mAttributeError\u001b[0m                            Traceback (most recent call last)",
      "\u001b[1;32m<ipython-input-2-53c37af04964>\u001b[0m in \u001b[0;36m<module>\u001b[1;34m\u001b[0m\n\u001b[0;32m     12\u001b[0m \u001b[0mpizza\u001b[0m\u001b[1;33m=\u001b[0m\u001b[0mPizza\u001b[0m\u001b[1;33m(\u001b[0m\u001b[1;33m[\u001b[0m\u001b[1;34m\"cheese\"\u001b[0m\u001b[1;33m,\u001b[0m \u001b[1;34m\"tomato\"\u001b[0m\u001b[1;33m,\u001b[0m\u001b[1;33m]\u001b[0m\u001b[1;33m)\u001b[0m\u001b[1;33m\u001b[0m\u001b[1;33m\u001b[0m\u001b[0m\n\u001b[0;32m     13\u001b[0m \u001b[0mprint\u001b[0m\u001b[1;33m(\u001b[0m\u001b[0mpizza\u001b[0m\u001b[1;33m.\u001b[0m\u001b[0mpineapple_allowed\u001b[0m\u001b[1;33m)\u001b[0m \u001b[1;31m## false\u001b[0m\u001b[1;33m\u001b[0m\u001b[1;33m\u001b[0m\u001b[0m\n\u001b[1;32m---> 14\u001b[1;33m \u001b[0mpizza\u001b[0m\u001b[1;33m.\u001b[0m\u001b[0mpineapple_allowed\u001b[0m\u001b[1;33m=\u001b[0m\u001b[1;32mTrue\u001b[0m \u001b[1;31m## we can't set pineapple allowed to true\u001b[0m\u001b[1;33m\u001b[0m\u001b[1;33m\u001b[0m\u001b[0m\n\u001b[0m",
      "\u001b[1;31mAttributeError\u001b[0m: can't set attribute"
     ]
    }
   ],
   "source": [
    "\n",
    "class Pizza:\n",
    "    def __init__(self, toppings):\n",
    "        self.toppings = toppings\n",
    "        \n",
    "    @property\n",
    "    def pineapple_allowed(self):\n",
    "        return False\n",
    "    \n",
    "    \n",
    "pizza = Pizza([\"cheese\", \"tomato\",])\n",
    "print(pizza.pineapple_allowed) ## false\n",
    "pizza.pineapple_allowed = True ## we can't set pineapple allowed to true"
   ]
  },
  {
   "cell_type": "markdown",
   "metadata": {},
   "source": [
    "### SETTER AND GETTER FUNCTIONS\n",
    "properties can also be set by defining setter/getter functions"
   ]
  },
  {
   "cell_type": "code",
   "execution_count": 2,
   "metadata": {},
   "outputs": [
    {
     "name": "stdout",
     "output_type": "stream",
     "text": [
      "False\n",
      "Enter the password: 23S4O\n",
      "Trues\n"
     ]
    }
   ],
   "source": [
    "\n",
    "class Pizza:\n",
    "    def __init__ (self, toppings):\n",
    "        self.toppings = toppings\n",
    "        self._pineapple_allowed = False\n",
    "        \n",
    "    @property\n",
    "    def pineapple_allowed(self):\n",
    "        return self._pineapple_allowed\n",
    "    \n",
    "    @pineapple_allowed.setter\n",
    "    def pineapple_allowed(self, value):\n",
    "        if value:\n",
    "            password = input(\"Enter the password: \")\n",
    "            if password == \"23S4O\":\n",
    "                self._pineapple_allowed = value  ## change value of the attribute _pineapple_allowed to whatever the user wants\n",
    "            else:\n",
    "                raise ValueError(\"Alert! Intruder!\")\n",
    "                \n",
    "                \n",
    "pizza = Pizza([\"cheese\", \"tomato\"])\n",
    "print(pizza.pineapple_allowed)\n",
    "pizza.pineapple_allowed = True\n",
    "print(pizza.pineapple_allowed)"
   ]
  },
  {
   "cell_type": "code",
   "execution_count": null,
   "metadata": {},
   "outputs": [],
   "source": []
  }
 ],
 "metadata": {
  "kernelspec": {
   "display_name": "Python 3",
   "language": "python",
   "name": "python3"
  },
  "language_info": {
   "codemirror_mode": {
    "name": "ipython",
    "version": 3
   },
   "file_extension": ".py",
   "mimetype": "text/x-python",
   "name": "python",
   "nbconvert_exporter": "python",
   "pygments_lexer": "ipython3",
   "version": "3.8.8"
  }
 },
 "nbformat": 4,
 "nbformat_minor": 4
}
