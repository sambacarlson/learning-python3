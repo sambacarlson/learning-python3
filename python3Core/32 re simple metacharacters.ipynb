{
 "cells": [
  {
   "cell_type": "code",
   "execution_count": 7,
   "metadata": {},
   "outputs": [
    {
     "name": "stdout",
     "output_type": "stream",
     "text": [
      "match 1\n",
      "match 2\n"
     ]
    }
   ],
   "source": [
    "# metacharacters allow you to create regular expressions to represent concepts like \"one or more repetitions of a vowel\"\n",
    "# . (dot)\n",
    "#'.' matches any character other than a new line\n",
    "\n",
    "import re\n",
    "pattern=r\"gr.y\"\n",
    "if re.match(pattern, \"grey\"):\n",
    "    print (\"match 1\")\n",
    "if re.match(pattern, \"gray\"):\n",
    "    print(\"match 2\")\n",
    "if re.match(pattern, \"blue\"):\n",
    "    print(\"match 3\")"
   ]
  },
  {
   "cell_type": "code",
   "execution_count": 7,
   "metadata": {},
   "outputs": [],
   "source": [
    "# '^' and '$'\n",
    "# they match the start and end string respectively\n",
    "\n",
    "\n",
    "import re\n",
    "pattern=r\"^gr.y$\"\n",
    "if re.match(pattern, \"gray\"):\n",
    "    print(\"match 1\")\n",
    "if re.match(pattern, \"grey\"):\n",
    "    print(\"match 2\")\n",
    "if re.match(pattern, \"grax\"):\n",
    "    print(\"match 3\")"
   ]
  },
  {
   "cell_type": "code",
   "execution_count": null,
   "metadata": {},
   "outputs": [],
   "source": []
  }
 ],
 "metadata": {
  "kernelspec": {
   "display_name": "Python 3.8.8 ('base')",
   "language": "python",
   "name": "python3"
  },
  "language_info": {
   "codemirror_mode": {
    "name": "ipython",
    "version": 3
   },
   "file_extension": ".py",
   "mimetype": "text/x-python",
   "name": "python",
   "nbconvert_exporter": "python",
   "pygments_lexer": "ipython3",
   "version": "3.8.8"
  },
  "vscode": {
   "interpreter": {
    "hash": "1736df6a7dfdf64c224f14593768c7974338ca65bb2fb0d6b90b526b6c35999f"
   }
  }
 },
 "nbformat": 4,
 "nbformat_minor": 4
}
