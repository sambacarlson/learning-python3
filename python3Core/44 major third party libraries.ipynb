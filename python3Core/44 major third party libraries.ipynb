{
 "cells": [
  {
   "cell_type": "code",
   "execution_count": null,
   "metadata": {},
   "outputs": [],
   "source": [
    "\"\"\"\n",
    "The python standard library is extensive. however, some tasks require the use of third-party libraries. some major third\n",
    "party libraries are;\n",
    "- Django: the mosot frequently used web framework written in python, Django powers websites that include instagram and disqus\n",
    "  it has many useful features, and whatever features it lacks are covered by the extention packages\n",
    "- Cherrypy and Flask are also popular web frameworks\n",
    "- BeautifulSoup: For scraping data from websites, the library BeautifulSoup is very useful, and leads to better results\n",
    "  than building your own scraper with regular expressions\n",
    "While python offer modules for programmatically accessing websites, such as urllib, they are quite combersome to use.\n",
    "Third-party library requests make it much easier to use HTTP requests.\n",
    "\n",
    "A number of third-party modules are available that make much easier to carry out scientific and mathematical computing with\n",
    "python. The module 'matplotlib' allows you to create graphs based on data in python.\n",
    "The module NumPy allows for the use of multidimentional arrays that are much faster than the native Python solution of nested\n",
    "lists. it also contains functions to perform mathematical operations such as matrix transformations on the arrays.\n",
    "The library SciPy contains numerous extensions to the functionality of NumPy\n",
    "\n",
    "Python can also be used for game developement. Usually, it is used as a scripting language for games written in other \n",
    "languages, but it can be used to make games by itself\n",
    "for 3D games, the library Panda3D can be used. For 2D games, you can use pygame\n",
    "\"\"\""
   ]
  }
 ],
 "metadata": {
  "kernelspec": {
   "display_name": "Python 3",
   "language": "python",
   "name": "python3"
  },
  "language_info": {
   "codemirror_mode": {
    "name": "ipython",
    "version": 3
   },
   "file_extension": ".py",
   "mimetype": "text/x-python",
   "name": "python",
   "nbconvert_exporter": "python",
   "pygments_lexer": "ipython3",
   "version": "3.7.6"
  }
 },
 "nbformat": 4,
 "nbformat_minor": 4
}
