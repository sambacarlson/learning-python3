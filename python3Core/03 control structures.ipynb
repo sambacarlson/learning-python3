{
 "cells": [
  {
   "cell_type": "code",
   "execution_count": 5,
   "metadata": {},
   "outputs": [
    {
     "data": {
      "text/plain": [
       "True"
      ]
     },
     "execution_count": 5,
     "metadata": {},
     "output_type": "execute_result"
    }
   ],
   "source": [
    "##BOOLEANS\n",
    "2==3 or 4==(3+1) ##returns true or false when the == operator is used. you can use the keywords 'and', 'or','not',etc"
   ]
  },
  {
   "cell_type": "code",
   "execution_count": 18,
   "metadata": {},
   "outputs": [
    {
     "name": "stdout",
     "output_type": "stream",
     "text": [
      "enter a number: 4\n",
      "4 is different from 5\n"
     ]
    }
   ],
   "source": [
    "##IF & ELSE STATEMENTS\n",
    "x=int(input(\"enter a number: \"))\n",
    "if x==5:\n",
    "    print(str(x) +\" is 5\")                 ## the syntax is simple. indentation is compulsory\n",
    "else:\n",
    "    print(str(x) +\" \"+\"is different from 5\")"
   ]
  },
  {
   "cell_type": "code",
   "execution_count": 1,
   "metadata": {},
   "outputs": [
    {
     "name": "stdout",
     "output_type": "stream",
     "text": [
      "input value for x:4\n",
      "your input is not 3\n"
     ]
    }
   ],
   "source": [
    "##NESTED IF\n",
    "x=int(input(\"input value for x:\"))\n",
    "if x+2==5:\n",
    "    if x%3==0: \n",
    "        print(\"you entered 3\")\n",
    "    else:\n",
    "        print(\"not possible to occur\")\n",
    "else:\n",
    "    print(\"your input is not 3\")  #inputing a character for example returns a value error. we can solve the problem by use of assertions talked about subsequently\n",
    "    "
   ]
  },
  {
   "cell_type": "code",
   "execution_count": null,
   "metadata": {},
   "outputs": [],
   "source": [
    "## You can also use the 'elif' statement which is the short  form of 'else if' "
   ]
  },
  {
   "cell_type": "code",
   "execution_count": null,
   "metadata": {},
   "outputs": [],
   "source": []
  }
 ],
 "metadata": {
  "kernelspec": {
   "display_name": "Python 3",
   "language": "python",
   "name": "python3"
  },
  "language_info": {
   "codemirror_mode": {
    "name": "ipython",
    "version": 3
   },
   "file_extension": ".py",
   "mimetype": "text/x-python",
   "name": "python",
   "nbconvert_exporter": "python",
   "pygments_lexer": "ipython3",
   "version": "3.8.8"
  }
 },
 "nbformat": 4,
 "nbformat_minor": 4
}
