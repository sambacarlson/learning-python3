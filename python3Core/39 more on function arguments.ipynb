{
 "cells": [
  {
   "cell_type": "code",
   "execution_count": 1,
   "metadata": {},
   "outputs": [
    {
     "name": "stdout",
     "output_type": "stream",
     "text": [
      "1\n",
      "(2, 3, 4, 5)\n"
     ]
    }
   ],
   "source": [
    "#using *args as a function parameter enables you to pass an arbitrary number of arguments to that function.\n",
    "# the arguments are then accessible as a tuple args in the body of the function.\n",
    "#EXample:\n",
    "def function(named_arg, *args):  # the parameter *args must come after the named parameter to a function\n",
    "    print(named_arg)\n",
    "    print(args)\n",
    "function(1, 2, 3, 4, 5)  # the named args is just a convention; you can choose another."
   ]
  },
  {
   "cell_type": "code",
   "execution_count": 3,
   "metadata": {},
   "outputs": [
    {
     "name": "stdout",
     "output_type": "stream",
     "text": [
      "spam\n",
      "egg\n"
     ]
    }
   ],
   "source": [
    "# default values\n",
    "# named parameters to a function can be made optional by giving them a default value.\n",
    "# these must come after a named parameters without a default value\n",
    "\n",
    "def function (x, y, food=\"spam\"):\n",
    "    print(food)\n",
    "function(1, 2)\n",
    "function(3, 4, \"egg\")  #in case the argument is passed in, the default value is ignored. in case not, the default is used."
   ]
  },
  {
   "cell_type": "code",
   "execution_count": 4,
   "metadata": {},
   "outputs": [
    {
     "name": "stdout",
     "output_type": "stream",
     "text": [
      "{'a': 7, 'b': 8}\n"
     ]
    }
   ],
   "source": [
    "# fucntion arguments\n",
    "## **kwargs (standing for keyword arguments) allows you to handle named arguments that you have not defined in advance.\n",
    "# the keyword arguments return a dictionary in which the keys are the argument names, and the values are the argument values.\n",
    "\n",
    "def my_func(x, y=7, *args, **kwargs):\n",
    "    print(kwargs)\n",
    "my_func(2, 3, 4, 5, 6, a=7, b=8)  # arguments returned by **kwargs are not included in *args"
   ]
  },
  {
   "cell_type": "code",
   "execution_count": null,
   "metadata": {},
   "outputs": [],
   "source": []
  }
 ],
 "metadata": {
  "kernelspec": {
   "display_name": "Python 3",
   "language": "python",
   "name": "python3"
  },
  "language_info": {
   "codemirror_mode": {
    "name": "ipython",
    "version": 3
   },
   "file_extension": ".py",
   "mimetype": "text/x-python",
   "name": "python",
   "nbconvert_exporter": "python",
   "pygments_lexer": "ipython3",
   "version": "3.7.6"
  }
 },
 "nbformat": 4,
 "nbformat_minor": 4
}
