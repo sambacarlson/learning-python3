{
 "cells": [
  {
   "cell_type": "code",
   "execution_count": 6,
   "metadata": {},
   "outputs": [
    {
     "name": "stdout",
     "output_type": "stream",
     "text": [
      "24\n",
      "42\n"
     ]
    },
    {
     "ename": "KeyError",
     "evalue": "'Carlson'",
     "output_type": "error",
     "traceback": [
      "\u001b[1;31m---------------------------------------------------------------------------\u001b[0m",
      "\u001b[1;31mKeyError\u001b[0m                                  Traceback (most recent call last)",
      "\u001b[1;32m<ipython-input-6-870ed65e4c90>\u001b[0m in \u001b[0;36m<module>\u001b[1;34m\u001b[0m\n\u001b[0;32m      3\u001b[0m \u001b[0mprint\u001b[0m \u001b[1;33m(\u001b[0m\u001b[0mages\u001b[0m\u001b[1;33m[\u001b[0m\u001b[1;34m\"Dave\"\u001b[0m\u001b[1;33m]\u001b[0m\u001b[1;33m)\u001b[0m\u001b[1;33m\u001b[0m\u001b[1;33m\u001b[0m\u001b[0m\n\u001b[0;32m      4\u001b[0m \u001b[0mprint\u001b[0m\u001b[1;33m(\u001b[0m\u001b[0mages\u001b[0m\u001b[1;33m[\u001b[0m\u001b[1;34m\"Mary\"\u001b[0m\u001b[1;33m]\u001b[0m\u001b[1;33m)\u001b[0m \u001b[1;31m## Dave, Mary and John are keys. trying to index a key that is not part of the dictionary returns a KeyError\u001b[0m\u001b[1;33m\u001b[0m\u001b[1;33m\u001b[0m\u001b[0m\n\u001b[1;32m----> 5\u001b[1;33m \u001b[0mprint\u001b[0m\u001b[1;33m(\u001b[0m\u001b[0mages\u001b[0m\u001b[1;33m[\u001b[0m\u001b[1;34m\"Carlson\"\u001b[0m\u001b[1;33m]\u001b[0m\u001b[1;33m)\u001b[0m\u001b[1;33m\u001b[0m\u001b[1;33m\u001b[0m\u001b[0m\n\u001b[0m",
      "\u001b[1;31mKeyError\u001b[0m: 'Carlson'"
     ]
    }
   ],
   "source": [
    "##Dictionaries are data structures used to map arbitrary keys to values. Example\n",
    "ages={\"Dave\":24, \"Mary\": 42, \"John\": 58}\n",
    "print (ages[\"Dave\"])\n",
    "print(ages[\"Mary\"]) ## Dave, Mary and John are keys. trying to index a key that is not part of the dictionary returns a KeyError\n",
    "print(ages[\"Carlson\"])"
   ]
  },
  {
   "cell_type": "code",
   "execution_count": 5,
   "metadata": {},
   "outputs": [
    {
     "name": "stdout",
     "output_type": "stream",
     "text": [
      "{'red': [255, 0, 0], 'green': [0, 255, 0], 'blue': [0, 0, 255], 'opp': ['c', 'm', 'y', 'k']}\n"
     ]
    }
   ],
   "source": [
    "## A single key can map multiple values\n",
    "primary={\"red\":[255, 0, 0], \"green\":[0, 255,0], \"blue\":[0,0,255], \"opp\":['c','m','y','k']}\n",
    "print(primary)"
   ]
  },
  {
   "cell_type": "code",
   "execution_count": 7,
   "metadata": {},
   "outputs": [
    {
     "ename": "TypeError",
     "evalue": "unhashable type: 'list'",
     "output_type": "error",
     "traceback": [
      "\u001b[1;31m---------------------------------------------------------------------------\u001b[0m",
      "\u001b[1;31mTypeError\u001b[0m                                 Traceback (most recent call last)",
      "\u001b[1;32m<ipython-input-7-f13986ff39b3>\u001b[0m in \u001b[0;36m<module>\u001b[1;34m\u001b[0m\n\u001b[0;32m      1\u001b[0m \u001b[1;31m## trying to use a mutable object, (objects that can be changed eg lists and dictionaries) as a dictionary key causes a TypeError\u001b[0m\u001b[1;33m\u001b[0m\u001b[1;33m\u001b[0m\u001b[1;33m\u001b[0m\u001b[0m\n\u001b[0;32m      2\u001b[0m \u001b[1;31m## Immutable objects are those that can't be chanbed.\u001b[0m\u001b[1;33m\u001b[0m\u001b[1;33m\u001b[0m\u001b[1;33m\u001b[0m\u001b[0m\n\u001b[1;32m----> 3\u001b[1;33m \u001b[0mbad_dic\u001b[0m\u001b[1;33m=\u001b[0m\u001b[1;33m{\u001b[0m\u001b[1;33m[\u001b[0m\u001b[1;36m1\u001b[0m\u001b[1;33m,\u001b[0m\u001b[1;36m2\u001b[0m\u001b[1;33m,\u001b[0m\u001b[1;36m3\u001b[0m\u001b[1;33m]\u001b[0m\u001b[1;33m:\u001b[0m \u001b[1;34m\"one two three\"\u001b[0m\u001b[1;33m,\u001b[0m\u001b[1;33m}\u001b[0m\u001b[1;33m\u001b[0m\u001b[1;33m\u001b[0m\u001b[0m\n\u001b[0m",
      "\u001b[1;31mTypeError\u001b[0m: unhashable type: 'list'"
     ]
    }
   ],
   "source": [
    "## trying to use a mutable object, (objects that can be changed eg lists and dictionaries) as a dictionary key causes a TypeError\n",
    "## Immutable objects are those that can't be chanbed.\n",
    "bad_dic={[1,2,3]: \"one two three\",}"
   ]
  },
  {
   "cell_type": "code",
   "execution_count": 12,
   "metadata": {},
   "outputs": [
    {
     "name": "stdout",
     "output_type": "stream",
     "text": [
      "{1: 1, 2: 4, 3: 'unknown', 4: 16}\n",
      "{1: 1, 2: 4, 3: 9, 4: 16, 5: 25, 6: 36}\n"
     ]
    }
   ],
   "source": [
    "## Just like lists, dictionary keys can be assigned to different values.\n",
    "## unlike lists, a new dictionary key can be assinged a value, not just ones that already exist.\n",
    "Squares={1:1,2:4,3:'unknown',4:16}\n",
    "print(Squares)\n",
    "Squares[3]=9\n",
    "Squares[5]=25\n",
    "Squares[6]=36\n",
    "print(Squares)"
   ]
  },
  {
   "cell_type": "code",
   "execution_count": 1,
   "metadata": {},
   "outputs": [
    {
     "name": "stdout",
     "output_type": "stream",
     "text": [
      "True\n",
      "False\n",
      "True\n"
     ]
    }
   ],
   "source": [
    "## Just like for lists, you can use 'in' and 'not in' to determine whether or not a key is in a dictionary\n",
    "nums={\n",
    "    1:'one',\n",
    "    2:'two',\n",
    "    3:'three',\n",
    "}\n",
    "print(2 in nums)\n",
    "print('one' in nums)\n",
    "print('three' not in nums)"
   ]
  },
  {
   "cell_type": "code",
   "execution_count": 19,
   "metadata": {},
   "outputs": [
    {
     "name": "stdout",
     "output_type": "stream",
     "text": [
      "[2, 3, 4]\n",
      "None\n",
      "not in dictionary!\n",
      "{1: False, 'orange': [2, 3, 4], None: 'True'}\n"
     ]
    }
   ],
   "source": [
    "## the 'get' method\n",
    "## 'get' does the same thing as indexing, but if the key is not found in the dictionary it returns another specified value instead ('None' by default)\n",
    "\n",
    "pairs={\n",
    "    1:\"apple\",\n",
    "    \"orange\":[2,3,4],\n",
    "    True: False,\n",
    "    None:\"True\",\n",
    "}\n",
    "print (pairs.get(\"orange\")) ## returns the value of orange\n",
    "print (pairs.get(6)) ## returns None\n",
    "print(pairs.get(234, \"not in dictionary!\")) ## instead of none, it returns defined string. this string is only returned when value you are trying to get does not exist\n",
    "print(pairs)"
   ]
  },
  {
   "cell_type": "code",
   "execution_count": null,
   "metadata": {},
   "outputs": [],
   "source": []
  }
 ],
 "metadata": {
  "kernelspec": {
   "display_name": "Python 3",
   "language": "python",
   "name": "python3"
  },
  "language_info": {
   "codemirror_mode": {
    "name": "ipython",
    "version": 3
   },
   "file_extension": ".py",
   "mimetype": "text/x-python",
   "name": "python",
   "nbconvert_exporter": "python",
   "pygments_lexer": "ipython3",
   "version": "3.8.8"
  }
 },
 "nbformat": 4,
 "nbformat_minor": 4
}
