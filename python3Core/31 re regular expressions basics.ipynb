{
 "cells": [
  {
   "cell_type": "code",
   "execution_count": 1,
   "metadata": {},
   "outputs": [],
   "source": [
    "#regular expressions are a powerful tool for string manipulation\n",
    "# they are a domain specific language(DSL). that is, they are present as a library in most modern programming languages. not just python\n",
    "# DSLs are highly specialised mini programming languages (eg. regular expressions, SQL)\n",
    "## regular expressions in python can be accessed using the 're'module which is part of the standard libray\n",
    "# to avoid confusion when using Regex (regular expression), we use raw strings (r\"expression\"). raw strings don't escape anything. making the use of regex easier"
   ]
  },
  {
   "cell_type": "code",
   "execution_count": 1,
   "metadata": {},
   "outputs": [
    {
     "name": "stdout",
     "output_type": "stream",
     "text": [
      "match\n"
     ]
    }
   ],
   "source": [
    "## re.match function\n",
    "##re.match function determines whether pattern matches at the beggining of the string given\n",
    "import re\n",
    "pattern= r\"spam\" #'r' makes the string raw\n",
    "if re.match(pattern, \"spameggspamsausagespam\"): #if matched, match returns the object  representing it. else it returns None\n",
    "    print(\"match\")\n",
    "else:\n",
    "    print(\"no match\")"
   ]
  },
  {
   "cell_type": "code",
   "execution_count": 4,
   "metadata": {},
   "outputs": [
    {
     "name": "stdout",
     "output_type": "stream",
     "text": [
      "no match\n",
      "match\n",
      "['spam', 'spam']\n"
     ]
    }
   ],
   "source": [
    "## re.findall, re.search functions\n",
    "#re.search finds the match of a pattern anywhere in the string\n",
    "#re.findall returns a list of all substrings that match a pattern\n",
    "\n",
    "import re\n",
    "pattern=r\"spam\"\n",
    "str = \"eggspamsausagespam\"\n",
    "if re.match(pattern, str):\n",
    "    print (\"match\")\n",
    "else:\n",
    "    print(\"no match\")\n",
    "if re.search(pattern, str):\n",
    "    print(\"match\")\n",
    "else:\n",
    "    print(\"no match\")\n",
    "print(re.findall(pattern, str))"
   ]
  },
  {
   "cell_type": "code",
   "execution_count": 7,
   "metadata": {},
   "outputs": [
    {
     "name": "stdout",
     "output_type": "stream",
     "text": [
      "spam\n",
      "3\n",
      "7\n",
      "(3, 7)\n"
     ]
    }
   ],
   "source": [
    "# regex search returns an object with several methods that give detail about it\n",
    "# they include 'group', which returns the string matched, 'start' and 'end' which return the start and end positions of the \n",
    "#first match and 'span' which returns the start and end positions of the first match as a tuple.\n",
    "\n",
    "import re\n",
    "pattern=r\"spam\"\n",
    "match=re.search(pattern,\"eggspamsausage\")\n",
    "if match: # if match is True\n",
    "    print(match.group())\n",
    "    print(match.start())\n",
    "    print (match.end())\n",
    "    print(match.span())"
   ]
  },
  {
   "cell_type": "code",
   "execution_count": 9,
   "metadata": {},
   "outputs": [
    {
     "name": "stdout",
     "output_type": "stream",
     "text": [
      "my name is Carlson. Hello Carlson.\n"
     ]
    }
   ],
   "source": [
    "## search and replace\n",
    "# one of the most important re methods that use regular expressions is 'sub'\n",
    "#syntax:\n",
    "# re.sub(pattern, repl, string, count=0)\n",
    "#'sub' replaces all occurances of the pattern in string with repl, substituting all occurances unless count is provided\n",
    "# 'sub' method returns the modified string\n",
    "\n",
    "import re\n",
    "str=\"my name is David. Hello David.\"\n",
    "pattern=r\"David\"\n",
    "newstr=re.sub(pattern, \"Carlson\", str)\n",
    "print(newstr)"
   ]
  },
  {
   "cell_type": "code",
   "execution_count": null,
   "metadata": {},
   "outputs": [],
   "source": []
  }
 ],
 "metadata": {
  "kernelspec": {
   "display_name": "Python 3.8.8 ('base')",
   "language": "python",
   "name": "python3"
  },
  "language_info": {
   "codemirror_mode": {
    "name": "ipython",
    "version": 3
   },
   "file_extension": ".py",
   "mimetype": "text/x-python",
   "name": "python",
   "nbconvert_exporter": "python",
   "pygments_lexer": "ipython3",
   "version": "3.8.8"
  },
  "vscode": {
   "interpreter": {
    "hash": "1736df6a7dfdf64c224f14593768c7974338ca65bb2fb0d6b90b526b6c35999f"
   }
  }
 },
 "nbformat": 4,
 "nbformat_minor": 4
}
