{
 "cells": [
  {
   "cell_type": "code",
   "execution_count": 5,
   "metadata": {},
   "outputs": [
    {
     "name": "stdout",
     "output_type": "stream",
     "text": [
      "match 1\n",
      "match 2\n",
      "match 4\n"
     ]
    }
   ],
   "source": [
    "# a group can be created by surrounding part of a regex with parentheses. hence, a group can be given as an arguement to metacharacters such as '*' and '+'\n",
    "\n",
    "\n",
    "import re\n",
    "pattern=r\"egg(spam)*\"\n",
    "if re.match(pattern, \"egg\"):\n",
    "    print(\"match 1\")\n",
    "if re.match(pattern, 'eggspamspameegg'):\n",
    "    print ('match 2')\n",
    "if re.match (pattern, \"spamegg\"):\n",
    "    print(\"match 3\")\n",
    "if re.match(pattern, \"eggeggspamspam\"):\n",
    "    print(\"match 4\")\n",
    "    \n",
    "# (spam) represents a group in the example above."
   ]
  },
  {
   "cell_type": "code",
   "execution_count": 9,
   "metadata": {},
   "outputs": [
    {
     "name": "stdout",
     "output_type": "stream",
     "text": [
      "abcdefghi\n",
      "abcdefghi\n",
      "bc\n",
      "de\n",
      "fgh\n",
      "('bc', 'de', 'fgh', 'g')\n"
     ]
    }
   ],
   "source": [
    "# the content of group in a match can be accessed using the group function (group())\n",
    "#group() or group(0) returns the whole match\n",
    "#group(n) where n>0 returns the nth group\n",
    "#the method groups()  (groups with s), returns all the groups from 1\n",
    "\n",
    "\n",
    "import re\n",
    "pattern = r\"a(bc)(de)(f(g)h)i\"\n",
    "match=re.match(pattern, \"abcdefghijklmnop\")\n",
    "if match:\n",
    "    print(match.group())\n",
    "    print(match.group(0))\n",
    "    print(match.group(1))\n",
    "    print(match.group(2))\n",
    "    print(match.group(3))\n",
    "    print(match.groups())"
   ]
  },
  {
   "cell_type": "code",
   "execution_count": 8,
   "metadata": {},
   "outputs": [
    {
     "name": "stdout",
     "output_type": "stream",
     "text": [
      "abc\n",
      "('abc', 'ghi')\n",
      "2\n"
     ]
    }
   ],
   "source": [
    "# there are several kinds of special groups. two useful ones are named groups and non-capturing groups\n",
    "# named groups have the format (?P<name>...), where name is the name  of the group and ... is the content.they behave thesame\n",
    "# as normal groups except that they can be accessed by 'group(name)' in addition to its number\n",
    "# non-capturing groups hhave the format (?:...). they are not accessible by the group method. so they can be added to an existing\n",
    "# regex without breaking the numbering\n",
    "\n",
    "import re\n",
    "pattern=r\"(?P<first>abc)(?:def)(ghi)\"\n",
    "match=re.match(pattern, \"abcdefghi\")\n",
    "if match:\n",
    "    print(match.group(\"first\"))\n",
    "    print(match.groups())\n",
    "    print (len(match.groups()))"
   ]
  },
  {
   "cell_type": "code",
   "execution_count": 11,
   "metadata": {},
   "outputs": [
    {
     "name": "stdout",
     "output_type": "stream",
     "text": [
      "match 1\n",
      "match 2\n"
     ]
    }
   ],
   "source": [
    "# another important metacharacter is the '|'. this means or.\n",
    "\n",
    "import re\n",
    "pattern=r\"gr(a|e)y\"\n",
    "if re.match(pattern, \"gray\"):\n",
    "    print (\"match 1\")\n",
    "if re.match(pattern, \"grey\"):\n",
    "    print(\"match 2\")\n",
    "if re.match(pattern, \"groy\"):\n",
    "    print(\"match 3\")\n"
   ]
  },
  {
   "cell_type": "code",
   "execution_count": null,
   "metadata": {},
   "outputs": [],
   "source": []
  }
 ],
 "metadata": {
  "kernelspec": {
   "display_name": "Python 3",
   "language": "python",
   "name": "python3"
  },
  "language_info": {
   "codemirror_mode": {
    "name": "ipython",
    "version": 3
   },
   "file_extension": ".py",
   "mimetype": "text/x-python",
   "name": "python",
   "nbconvert_exporter": "python",
   "pygments_lexer": "ipython3",
   "version": "3.8.8"
  }
 },
 "nbformat": 4,
 "nbformat_minor": 4
}
