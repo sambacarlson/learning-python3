{
 "cells": [
  {
   "cell_type": "code",
   "execution_count": 4,
   "metadata": {},
   "outputs": [
    {
     "name": "stdout",
     "output_type": "stream",
     "text": [
      "this is a script\n"
     ]
    }
   ],
   "source": [
    "#most python code is either module to be imported or a script that does something.\n",
    "# however, sometimes it is useful to make a file that can both imported as a  module and run as a script\n",
    "# to do this, place script code inside 'if__name__==\"__main__\"'. this ensures that it won't run if the file is imported.\n",
    "\n",
    "def function():\n",
    "    print(\"this is a module function\")\n",
    "if __name__==\"__main__\":       ## double underscores\n",
    "    print(\"this is a script\")\n",
    "    \n",
    "# when the python interpreter reads a source file, it executes all of the code it finds in the file. Before executing the\n",
    "# code, it defines a few special variables. for example, if  the python interpreter is running that module (the source file)\n",
    "# as the main program, it sets the special __name__ variable to have a value \"__main__\" if this file is being imported from \n",
    "#  another module, __name__ will be set to the module's name"
   ]
  },
  {
   "cell_type": "code",
   "execution_count": null,
   "metadata": {},
   "outputs": [],
   "source": [
    "# if we save the above code as a file called sololearn.py, we can then import it to another script as a module, using the\n",
    "# name sololearn.\n",
    "#sololearn.py\n",
    "#>>> import sololean\n",
    "#>>> sololearn.function()\n",
    "# result\n",
    "#>>this is a module function"
   ]
  }
 ],
 "metadata": {
  "kernelspec": {
   "display_name": "Python 3",
   "language": "python",
   "name": "python3"
  },
  "language_info": {
   "codemirror_mode": {
    "name": "ipython",
    "version": 3
   },
   "file_extension": ".py",
   "mimetype": "text/x-python",
   "name": "python",
   "nbconvert_exporter": "python",
   "pygments_lexer": "ipython3",
   "version": "3.8.8"
  }
 },
 "nbformat": 4,
 "nbformat_minor": 4
}
