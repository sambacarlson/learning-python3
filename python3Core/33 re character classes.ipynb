{
 "cells": [
  {
   "cell_type": "code",
   "execution_count": 4,
   "metadata": {},
   "outputs": [
    {
     "name": "stdout",
     "output_type": "stream",
     "text": [
      "match 1\n",
      "match 2\n"
     ]
    }
   ],
   "source": [
    "# character classes provide a way to match only one of a specific set of characters.\n",
    "# a character class is created by putting the characters it matches inside square brackets\n",
    "\n",
    "import re\n",
    "pattern = r\"[aeiou]\"\n",
    "if re.search(pattern, 'grey'):\n",
    "    print(\"match 1\")\n",
    "if re.search(pattern, \"qwertyuiop\"):\n",
    "    print(\"match 2\")\n",
    "if re.search (pattern, \"rythm myths\"):\n",
    "    print(\"match 3\")"
   ]
  },
  {
   "cell_type": "code",
   "execution_count": 5,
   "metadata": {},
   "outputs": [
    {
     "name": "stdout",
     "output_type": "stream",
     "text": [
      "match 1\n"
     ]
    }
   ],
   "source": [
    "# character classes can also match ranges of characters\n",
    "#examples:\n",
    "\"\"\"\n",
    "[a-z] matches any lowercase alphabetic character\n",
    "[G-P] matches any uppercase alphabetic character from G to P\n",
    "[0-9] matches any digit\n",
    "[A-Za-z] matches any letter of any case\n",
    "\"\"\"\n",
    "\n",
    "import re\n",
    "pattern=r\"[A-z][A-Z][0-9]\"\n",
    "if re.search(pattern, \"LS9\"):\n",
    "    print (\"match 1\")\n",
    "if re.search(pattern, \"E3\"):\n",
    "    print(\"match 2\")\n",
    "if re.search(pattern, \"1ab\"):\n",
    "    print(\"match 3\")"
   ]
  },
  {
   "cell_type": "code",
   "execution_count": 7,
   "metadata": {},
   "outputs": [
    {
     "name": "stdout",
     "output_type": "stream",
     "text": [
      "match 1\n",
      "match 2\n",
      "match 3\n"
     ]
    }
   ],
   "source": [
    "#place a '^' at the start of a character class to invert it. this causes it to match any character other than the ones included\n",
    "# other metacharacters such as '.' and '$' have no meaning within character classes. '^' has no meaning unless it is the 1st character in a class\n",
    "\n",
    "\n",
    "import re\n",
    "pattern=r\"[^A-Z]\" #excludes upper case strings\n",
    "if re.search(pattern, \"this is a computer\"):\n",
    "    print(\"match 1\")\n",
    "if re.search(pattern, \"AbCdEfG124\"):\n",
    "    print(\"match 2\")\n",
    "if re.search(pattern, \"ALL IN CAPS\"): #spaces are considers characters hence match 3 is true\n",
    "    print(\"match 3\")\n",
    "if re.search(pattern, \"ALLINCAPS\"):\n",
    "    print(\"match 4\")"
   ]
  },
  {
   "cell_type": "code",
   "execution_count": null,
   "metadata": {},
   "outputs": [],
   "source": []
  }
 ],
 "metadata": {
  "kernelspec": {
   "display_name": "Python 3.10.6 64-bit",
   "language": "python",
   "name": "python3"
  },
  "language_info": {
   "codemirror_mode": {
    "name": "ipython",
    "version": 3
   },
   "file_extension": ".py",
   "mimetype": "text/x-python",
   "name": "python",
   "nbconvert_exporter": "python",
   "pygments_lexer": "ipython3",
   "version": "3.10.6"
  },
  "vscode": {
   "interpreter": {
    "hash": "916dbcbb3f70747c44a77c7bcd40155683ae19c65e1c03b4aa3499c5328201f1"
   }
  }
 },
 "nbformat": 4,
 "nbformat_minor": 4
}
