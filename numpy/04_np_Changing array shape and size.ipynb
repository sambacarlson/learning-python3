{
 "cells": [
  {
   "cell_type": "code",
   "execution_count": 1,
   "id": "f74afa05",
   "metadata": {},
   "outputs": [],
   "source": [
    "# a numpy array can be reshaped and resized. reshaping with \n",
    "# 'np.reshape' returns a new array with a modified shape\n",
    "# and resizing with 'np.resize' modifies the original array.\n",
    "# A third function 'np.ravel' returns a flattened array."
   ]
  },
  {
   "cell_type": "code",
   "execution_count": 3,
   "id": "5a634aea",
   "metadata": {},
   "outputs": [
    {
     "name": "stdout",
     "output_type": "stream",
     "text": [
      "(10,)\n",
      "[0 1 2 3 4 5 6 7 8 9]\n",
      "(2, 5)\n",
      "[[0 1 2 3 4]\n",
      " [5 6 7 8 9]]\n",
      "[[1 2 3]\n",
      " [4 5 6]]__(2, 3)\n",
      "[[1 2]\n",
      " [3 4]\n",
      " [5 6]]\n",
      "(2, 3)\n",
      "[1 2 3 4 5 6]\n",
      "[[1 2 3]\n",
      " [4 5 6]]\n"
     ]
    }
   ],
   "source": [
    "import numpy as np\n",
    "\n",
    "a = np.arange(10)\n",
    "print(a.shape)\n",
    "print(a)\n",
    "\n",
    "a.resize(2, 5)\n",
    "print(a.shape)\n",
    "print(a)\n",
    "\n",
    "b = np.array([[1, 2, 3], [4, 5, 6]])\n",
    "print(b, b.shape,)\n",
    "print(b.reshape(3, 2))\n",
    "print(b.shape)\n",
    "print(b.ravel())# or 'np.ravel(b)'\n",
    "print(b)"
   ]
  },
  {
   "cell_type": "code",
   "execution_count": 4,
   "id": "237b48b7",
   "metadata": {},
   "outputs": [],
   "source": [
    "# Note that reshape and ravel do not resize array b from its original shape"
   ]
  },
  {
   "cell_type": "code",
   "execution_count": 7,
   "id": "2f17bc48",
   "metadata": {},
   "outputs": [
    {
     "name": "stdout",
     "output_type": "stream",
     "text": [
      "[[1 2 3]\n",
      " [4 5 6]]\n",
      "\n",
      "[[1 4]\n",
      " [2 5]\n",
      " [3 6]]\n"
     ]
    }
   ],
   "source": [
    "# the 'np.transpose()' function transposes an array (matrix transposition. rows become coumns and culumns rows)\n",
    "import numpy as np\n",
    "a =np.array([[1, 2, 3], [4, 5, 6]])\n",
    "print(a, a.transpose(), sep = '\\n\\n')"
   ]
  },
  {
   "cell_type": "code",
   "execution_count": null,
   "id": "a625c8b9",
   "metadata": {},
   "outputs": [],
   "source": []
  }
 ],
 "metadata": {
  "kernelspec": {
   "display_name": "Python 3",
   "language": "python",
   "name": "python3"
  },
  "language_info": {
   "codemirror_mode": {
    "name": "ipython",
    "version": 3
   },
   "file_extension": ".py",
   "mimetype": "text/x-python",
   "name": "python",
   "nbconvert_exporter": "python",
   "pygments_lexer": "ipython3",
   "version": "3.8.8"
  }
 },
 "nbformat": 4,
 "nbformat_minor": 5
}
