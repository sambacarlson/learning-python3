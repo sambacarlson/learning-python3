{
 "cells": [
  {
   "cell_type": "code",
   "execution_count": 1,
   "id": "bcc48b4c",
   "metadata": {},
   "outputs": [],
   "source": [
    "# Some Mathematical functions work on each element of a single numply array."
   ]
  },
  {
   "cell_type": "code",
   "execution_count": 2,
   "id": "f2d8b980",
   "metadata": {},
   "outputs": [
    {
     "name": "stdout",
     "output_type": "stream",
     "text": [
      "[[ 2.71828183  7.3890561 ]\n",
      " [20.08553692 54.59815003]]\n",
      "[[1.         1.41421356]\n",
      " [1.73205081 2.        ]]\n"
     ]
    }
   ],
   "source": [
    "import numpy as np\n",
    "x = np.array([[1, 2], [3, 4]])\n",
    "\n",
    "print(np.exp(x)) # calculates the exponential of each element\n",
    "print(np.sqrt(x)) # calculates the square root of each element"
   ]
  },
  {
   "cell_type": "code",
   "execution_count": null,
   "id": "ba720739",
   "metadata": {},
   "outputs": [],
   "source": [
    "'''\n",
    "Some other commonly used numpy elementwise functions include\n",
    "\n",
    "np.around() Returns the array rounded up to the optionally specified number of decimal places\n",
    "np.trunc() Returns the array with truncated elements\n",
    "np.floor() Returns  the greatest integer less than or equal to a value\n",
    "np.ceil() Returen the greagest integer greater than or equal to a value\n",
    "np.log() Returns the natural logarithm for each element.\n",
    "\n",
    "The numpy library also includes numerous trigonometric, hyperbolic, and other special functions that work elementwise\n",
    "visit the official numpy documentation website for a complete list of supported functions\n",
    "'''"
   ]
  }
 ],
 "metadata": {
  "kernelspec": {
   "display_name": "Python 3",
   "language": "python",
   "name": "python3"
  },
  "language_info": {
   "codemirror_mode": {
    "name": "ipython",
    "version": 3
   },
   "file_extension": ".py",
   "mimetype": "text/x-python",
   "name": "python",
   "nbconvert_exporter": "python",
   "pygments_lexer": "ipython3",
   "version": "3.8.8"
  }
 },
 "nbformat": 4,
 "nbformat_minor": 5
}
