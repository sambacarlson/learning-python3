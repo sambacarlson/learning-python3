{
 "cells": [
  {
   "cell_type": "markdown",
   "id": "3860bb38",
   "metadata": {},
   "source": [
    "### Broadcasting describes how NumPy treats arrays with different shapes during arithmetic operations\n",
    "when arithmetic operations on arrays of different sizes are performed, an operation called broadcasting is\n",
    "performed **to expand the smaller array to match the larger array.**\n",
    "### Conditions for broadcasting\n",
    "1. **Arrays have the same dimension**\n",
    "2. **A corresponding Dimention be 1**\n",
    "\n",
    "Dimensions that do not match cannot be stretched if one of them is not 1.\n",
    "in such case, a ValueError will be raised because broadcasting can't make the dimensions match\n"
   ]
  },
  {
   "cell_type": "code",
   "execution_count": 2,
   "id": "ae8dd563",
   "metadata": {},
   "outputs": [],
   "source": [
    "# EXamples\n",
    "\n",
    "import numpy as np\n",
    "\n",
    "one_d = np.array([10])\n",
    "two_d = np.array([[1, 2, 3, 4], [5, 6, 7, 8]])\n",
    "three_d = np.ones((3, 2))\n"
   ]
  },
  {
   "cell_type": "code",
   "execution_count": 3,
   "id": "d47f7798",
   "metadata": {},
   "outputs": [
    {
     "name": "stdout",
     "output_type": "stream",
     "text": [
      "[[11 12 13 14]\n",
      " [15 16 17 18]]\n"
     ]
    }
   ],
   "source": [
    "print(np.add(two_d, one_d)) # one_d will be stretched to be as though it were 'np.full((2, 4), 10)'"
   ]
  },
  {
   "cell_type": "code",
   "execution_count": 5,
   "id": "b5032d7e",
   "metadata": {},
   "outputs": [
    {
     "name": "stdout",
     "output_type": "stream",
     "text": [
      "[[11. 11.]\n",
      " [11. 11.]\n",
      " [11. 11.]]\n"
     ]
    }
   ],
   "source": [
    "print(np.add(one_d, three_d))"
   ]
  },
  {
   "cell_type": "code",
   "execution_count": 6,
   "id": "ca199a5b",
   "metadata": {},
   "outputs": [
    {
     "ename": "ValueError",
     "evalue": "operands could not be broadcast together with shapes (2,4) (3,2) ",
     "output_type": "error",
     "traceback": [
      "\u001b[0;31m---------------------------------------------------------------------------\u001b[0m",
      "\u001b[0;31mValueError\u001b[0m                                Traceback (most recent call last)",
      "\u001b[0;32m<ipython-input-6-a9527d0ca5a4>\u001b[0m in \u001b[0;36m<module>\u001b[0;34m\u001b[0m\n\u001b[0;32m----> 1\u001b[0;31m \u001b[0mprint\u001b[0m\u001b[0;34m(\u001b[0m\u001b[0mnp\u001b[0m\u001b[0;34m.\u001b[0m\u001b[0madd\u001b[0m\u001b[0;34m(\u001b[0m\u001b[0mtwo_d\u001b[0m\u001b[0;34m,\u001b[0m \u001b[0mthree_d\u001b[0m\u001b[0;34m)\u001b[0m\u001b[0;34m)\u001b[0m \u001b[0;31m# NumPy can't stretch either of the arrays hence ValueError\u001b[0m\u001b[0;34m\u001b[0m\u001b[0;34m\u001b[0m\u001b[0m\n\u001b[0m",
      "\u001b[0;31mValueError\u001b[0m: operands could not be broadcast together with shapes (2,4) (3,2) "
     ]
    }
   ],
   "source": [
    "print(np.add(two_d, three_d)) # NumPy can't stretch either of the arrays hence ValueError"
   ]
  },
  {
   "cell_type": "code",
   "execution_count": null,
   "id": "0679fde4",
   "metadata": {},
   "outputs": [],
   "source": []
  }
 ],
 "metadata": {
  "kernelspec": {
   "display_name": "Python 3",
   "language": "python",
   "name": "python3"
  },
  "language_info": {
   "codemirror_mode": {
    "name": "ipython",
    "version": 3
   },
   "file_extension": ".py",
   "mimetype": "text/x-python",
   "name": "python",
   "nbconvert_exporter": "python",
   "pygments_lexer": "ipython3",
   "version": "3.8.8"
  }
 },
 "nbformat": 4,
 "nbformat_minor": 5
}
