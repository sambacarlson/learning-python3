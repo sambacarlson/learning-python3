{
 "cells": [
  {
   "cell_type": "code",
   "execution_count": null,
   "id": "2c0a73a4",
   "metadata": {},
   "outputs": [],
   "source": [
    "# Numpy stands for Numerical Python. it is a package of high-level mathematical and numerical functions and tools\n",
    "# that are dessigned to work with the numpy array object. \n",
    "# A numpy array is a high performance multidimentional data structure more #efficient and convenient than python lists\n",
    "# you need to install the package and import it to use it."
   ]
  },
  {
   "cell_type": "code",
   "execution_count": 2,
   "id": "0b6be83d",
   "metadata": {},
   "outputs": [],
   "source": [
    "import numpy as np"
   ]
  },
  {
   "cell_type": "code",
   "execution_count": 3,
   "id": "ffd913d3",
   "metadata": {},
   "outputs": [],
   "source": [
    "#numpy arrays are of fixed size, are indexed from 0, and contain elements of all the same type.\n",
    "# they are 'ndarray' objects (n-dimentional opjects) and are created using numpy.array() function"
   ]
  },
  {
   "cell_type": "code",
   "execution_count": 4,
   "id": "a7f1844f",
   "metadata": {},
   "outputs": [],
   "source": [
    "b = np.array([1, 2, 3, 4]) # creates a one dimentional array with four constants\n",
    "#numpy arrays refer to the dimensions as 'axes' and the number of axes as 'rank'.\n",
    "# therefore, b is an array of rank 1"
   ]
  },
  {
   "cell_type": "code",
   "execution_count": 2,
   "id": "213aef06",
   "metadata": {},
   "outputs": [
    {
     "name": "stdout",
     "output_type": "stream",
     "text": [
      "[[1 2 3 4]\n",
      " [5 6 7 8]]\n",
      "7\n",
      "2\n",
      "(2, 4)\n",
      "<class 'tuple'>\n",
      "8\n",
      "<class 'numpy.ndarray'>\n"
     ]
    }
   ],
   "source": [
    "import numpy as np\n",
    "my_arr = np.array([[1, 2, 3, 4], [5, 6, 7, 8]]) # creates an array of rank 2\n",
    "print(my_arr)\n",
    "\n",
    "print(my_arr[1, 2]) # indexes a single element\n",
    "print(my_arr.ndim) # shows the array rank\n",
    "print(my_arr.shape) # shows number of rows and columns as a tuple\n",
    "print(type(my_arr.shape))\n",
    "print(my_arr.size) # shows number of elements\n",
    "print(type(my_arr)) # shows type of my_arr"
   ]
  },
  {
   "cell_type": "code",
   "execution_count": null,
   "id": "d3327449",
   "metadata": {},
   "outputs": [],
   "source": []
  }
 ],
 "metadata": {
  "kernelspec": {
   "display_name": "Python 3",
   "language": "python",
   "name": "python3"
  },
  "language_info": {
   "codemirror_mode": {
    "name": "ipython",
    "version": 3
   },
   "file_extension": ".py",
   "mimetype": "text/x-python",
   "name": "python",
   "nbconvert_exporter": "python",
   "pygments_lexer": "ipython3",
   "version": "3.8.8"
  }
 },
 "nbformat": 4,
 "nbformat_minor": 5
}
