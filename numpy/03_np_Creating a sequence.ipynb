{
 "cells": [
  {
   "cell_type": "code",
   "execution_count": 1,
   "id": "7c01b9cc",
   "metadata": {},
   "outputs": [],
   "source": [
    "# two useful numpy functions for creating  a list of numbers that fill a range are 'np.arange()'\n",
    "# and 'np.linspace()'.\n",
    "# both functions evenly space values. However, the 'np.arrange' function returns values up to the end parameter,\n",
    "# whereas the 'np.linspace' returns a specified number of elements"
   ]
  },
  {
   "cell_type": "code",
   "execution_count": 5,
   "id": "e080e857",
   "metadata": {},
   "outputs": [
    {
     "name": "stdout",
     "output_type": "stream",
     "text": [
      "[0 2 4 6 8]\n",
      "[0 1 2 3 4 5]\n"
     ]
    }
   ],
   "source": [
    "# np.arrange(start, end, step)\n",
    "# it creates a numpy array with elements ranging in value from 'start' to 'end', incrementing by 'step'.\n",
    "\n",
    "import numpy as np\n",
    "\n",
    "a = np.arange(0, 10, 2)\n",
    "print(a)\n",
    "\n",
    "# only 'end' is required. omiting start and step creates and evenly spaced range from 0 to end.\n",
    "b = np.arange(6)\n",
    "print(b)"
   ]
  },
  {
   "cell_type": "code",
   "execution_count": 6,
   "id": "dc9686e8",
   "metadata": {},
   "outputs": [
    {
     "name": "stdout",
     "output_type": "stream",
     "text": [
      "[ 0.  2.  4.  6.  8. 10.]\n"
     ]
    }
   ],
   "source": [
    "# np.linspace(start, end, numvalues)\n",
    "# it creates a numpy array with 'numbalues' values evenly spaced from 'start' to 'end'\n",
    "\n",
    "c = np.linspace(0, 10, 6)\n",
    "print(c)"
   ]
  },
  {
   "cell_type": "code",
   "execution_count": null,
   "id": "14e2dc84",
   "metadata": {},
   "outputs": [],
   "source": []
  }
 ],
 "metadata": {
  "kernelspec": {
   "display_name": "Python 3",
   "language": "python",
   "name": "python3"
  },
  "language_info": {
   "codemirror_mode": {
    "name": "ipython",
    "version": 3
   },
   "file_extension": ".py",
   "mimetype": "text/x-python",
   "name": "python",
   "nbconvert_exporter": "python",
   "pygments_lexer": "ipython3",
   "version": "3.8.8"
  }
 },
 "nbformat": 4,
 "nbformat_minor": 5
}
