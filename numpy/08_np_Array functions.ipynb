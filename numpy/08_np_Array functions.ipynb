{
 "cells": [
  {
   "cell_type": "code",
   "execution_count": null,
   "id": "6dc08cc6",
   "metadata": {},
   "outputs": [],
   "source": [
    "'''\n",
    "Numpy functions that work on an array include\n",
    "\n",
    "np.sum() Returns the sum of all elements\n",
    "np.min(), np.max Returns the minimum/maximum value in an array\n",
    "np.cumsum() Returns the cummulative sum of elements\n",
    "np.mean(), np.median() Returns the mean/median for and array\n",
    "\n",
    "for all functions mentioned above, you can include and optional 'axis = 1' parameter for the valude in each row\n",
    "and 'axis = 0' for columbs\n",
    "\n",
    "np.corrcoef() Returns the correlation coefficient for the array\n",
    "np.std() Returns the standard deviation for the array\n",
    "\n",
    "'''"
   ]
  },
  {
   "cell_type": "code",
   "execution_count": 15,
   "id": "3f13685e",
   "metadata": {},
   "outputs": [
    {
     "name": "stdout",
     "output_type": "stream",
     "text": [
      "[ 6  8 10 12]\n",
      "[10 26] \n",
      "\n",
      "1\n",
      "[4 8]\n",
      "\n",
      "\n",
      "[  9  19  30  42  55  69  84 100]\n",
      "[[1. 1.]\n",
      " [1. 1.]]\n",
      "2.29128784747792\n"
     ]
    }
   ],
   "source": [
    "import numpy as np\n",
    "\n",
    "x = np.array([[1, 2, 3, 4], [5, 6, 7, 8]])\n",
    "y = np.array([[9, 10, 11, 12], [13, 14, 15, 16]])\n",
    "\n",
    "print(x.sum(axis = 0))\n",
    "print(x.sum(axis = 1), '\\n')\n",
    "\n",
    "print(np.min(x))\n",
    "print(x.max(axis = 1))\n",
    "print('\\n')\n",
    "\n",
    "print(np.cumsum(y))\n",
    "print(np.corrcoef(y))\n",
    "print(y.std())"
   ]
  },
  {
   "cell_type": "code",
   "execution_count": null,
   "id": "3128dabb",
   "metadata": {},
   "outputs": [],
   "source": []
  }
 ],
 "metadata": {
  "kernelspec": {
   "display_name": "Python 3",
   "language": "python",
   "name": "python3"
  },
  "language_info": {
   "codemirror_mode": {
    "name": "ipython",
    "version": 3
   },
   "file_extension": ".py",
   "mimetype": "text/x-python",
   "name": "python",
   "nbconvert_exporter": "python",
   "pygments_lexer": "ipython3",
   "version": "3.8.8"
  }
 },
 "nbformat": 4,
 "nbformat_minor": 5
}
