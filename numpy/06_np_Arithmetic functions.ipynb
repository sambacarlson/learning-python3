{
 "cells": [
  {
   "cell_type": "code",
   "execution_count": 1,
   "id": "c5fa5c38",
   "metadata": {},
   "outputs": [],
   "source": [
    "# given two numpy arrays, we can carry out some arithmetic calculations on them\n",
    "# basic operations can use functions by the name. they include; 'add', 'subtract', 'multiply', 'divide' and 'remainder' and 'power'\n",
    "# arithmetic operators (+, -, *, /, **) can also be used to carry out array operations\n",
    "# logical comparisons (<, >, ==) can be made, and will return an array of booleans\n",
    "# The matrix dot product is performed using 'np.dot()'\n",
    "#examples below"
   ]
  },
  {
   "cell_type": "code",
   "execution_count": 7,
   "id": "730c912a",
   "metadata": {},
   "outputs": [
    {
     "name": "stdout",
     "output_type": "stream",
     "text": [
      "[[10 12 14 16]\n",
      " [18 20 22 24]]\n",
      "[[0 0 2 0]\n",
      " [3 2 1 0]]\n",
      "[[ 1  4  9 16]\n",
      " [25 36 49 64]]\n",
      "[[8 8 8 8]\n",
      " [8 8 8 8]]\n",
      "[[ True  True  True  True]\n",
      " [False False False False]]\n"
     ]
    }
   ],
   "source": [
    "import numpy as np\n",
    "\n",
    "x = np.array([[1,2,3,4], [5,6,7,8]])\n",
    "y = np.array([[9,10,11,12], [13,14,15,16]])\n",
    "\n",
    "print(np.add(x, y))\n",
    "print(np.remainder(y,x)) # %\n",
    "print(x**2)\n",
    "print(y-x)\n",
    "print(x<5)\n",
    "\n"
   ]
  },
  {
   "cell_type": "code",
   "execution_count": null,
   "id": "45335639",
   "metadata": {},
   "outputs": [],
   "source": []
  }
 ],
 "metadata": {
  "kernelspec": {
   "display_name": "Python 3",
   "language": "python",
   "name": "python3"
  },
  "language_info": {
   "codemirror_mode": {
    "name": "ipython",
    "version": 3
   },
   "file_extension": ".py",
   "mimetype": "text/x-python",
   "name": "python",
   "nbconvert_exporter": "python",
   "pygments_lexer": "ipython3",
   "version": "3.8.8"
  }
 },
 "nbformat": 4,
 "nbformat_minor": 5
}
