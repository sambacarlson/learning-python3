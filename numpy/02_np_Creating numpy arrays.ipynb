{
 "cells": [
  {
   "cell_type": "code",
   "execution_count": 1,
   "id": "ca89d8d0",
   "metadata": {},
   "outputs": [],
   "source": [
    "# there are several functions for creating arrays"
   ]
  },
  {
   "cell_type": "code",
   "execution_count": 8,
   "id": "767bbc6b",
   "metadata": {},
   "outputs": [
    {
     "name": "stdout",
     "output_type": "stream",
     "text": [
      "[[1. 1.]\n",
      " [1. 1.]\n",
      " [1. 1.]]\n",
      "\n",
      "[[0. 0. 0. 0.]\n",
      " [0. 0. 0. 0.]\n",
      " [0. 0. 0. 0.]]\n",
      "\n",
      "[0.92567719 0.68044034 0.76498306]\n",
      "\n",
      "[[12 12]\n",
      " [12 12]]\n"
     ]
    }
   ],
   "source": [
    "import numpy as np\n",
    "\n",
    "a = np.ones((3, 2)) # creates 3X2 array of 1s\n",
    "b = np.zeros((3, 4)) # creates 3X4 array of 0s\n",
    "c = np.random.random(3) # creates one-dimentional array of random values\n",
    "d = np.full((2, 2), 12) # creates 2X2 array filled with the provided value\n",
    "\n",
    "print(a, b, c, d, sep='\\n\\n')"
   ]
  },
  {
   "cell_type": "code",
   "execution_count": 9,
   "id": "f2d01017",
   "metadata": {},
   "outputs": [],
   "source": [
    "# we also have the following\n",
    "# 'np.empty()' for creating an array of uninitialized elements\n",
    "# 'np.eye()' and 'np.identity()' funcitons  are for creating identity arrays for matrix calculations."
   ]
  },
  {
   "cell_type": "code",
   "execution_count": 10,
   "id": "51ced112",
   "metadata": {},
   "outputs": [
    {
     "name": "stdout",
     "output_type": "stream",
     "text": [
      "[[12. 12.]\n",
      " [12. 12.]]\n"
     ]
    }
   ],
   "source": [
    "# you can optionally specify the data type for array elements at the time of creation\n",
    "my_arr = np.full((2, 2), 12, dtype=np.float32)\n",
    "print(my_arr)"
   ]
  },
  {
   "cell_type": "code",
   "execution_count": null,
   "id": "cda94e2c",
   "metadata": {},
   "outputs": [],
   "source": [
    "# the 'copy()' function creates a copy of an array\n",
    "# example 'a = b.copy()'\n",
    "\n",
    "# the 'loadtxt()' function can be used to load data from a file into an array.\n",
    "\n",
    "# the 'save()' function is used to save a numpy array to a file."
   ]
  }
 ],
 "metadata": {
  "kernelspec": {
   "display_name": "Python 3",
   "language": "python",
   "name": "python3"
  },
  "language_info": {
   "codemirror_mode": {
    "name": "ipython",
    "version": 3
   },
   "file_extension": ".py",
   "mimetype": "text/x-python",
   "name": "python",
   "nbconvert_exporter": "python",
   "pygments_lexer": "ipython3",
   "version": "3.8.8"
  }
 },
 "nbformat": 4,
 "nbformat_minor": 5
}
