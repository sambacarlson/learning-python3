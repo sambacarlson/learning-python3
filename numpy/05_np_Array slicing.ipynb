{
 "cells": [
  {
   "cell_type": "code",
   "execution_count": 1,
   "id": "2ddb2c9c",
   "metadata": {},
   "outputs": [],
   "source": [
    "# just like with lists, we can slice an array to extract a subset of it\n",
    "# array slicing refers to the actual array elements. so changing a value in a slice will effect the \n",
    "#change in the array itself"
   ]
  },
  {
   "cell_type": "code",
   "execution_count": 2,
   "id": "26044f0c",
   "metadata": {},
   "outputs": [],
   "source": [
    "# to slice an array, you indicate the 'start:stop:step' of the subset in sqare brackets\n",
    "# for a multidimensional array, specify the elements for each dimension separated by a comma.\n",
    "# an ellipsis (...) is used to indicate selection along an entire dimension.\n",
    "\n",
    "#Examples;"
   ]
  },
  {
   "cell_type": "code",
   "execution_count": 8,
   "id": "5e08985b",
   "metadata": {},
   "outputs": [
    {
     "name": "stdout",
     "output_type": "stream",
     "text": [
      "[0 1 2 3 4 5 6 7]\n",
      "[0 1 2 3]\n",
      "[6 7]\n",
      "[0 2 4]\n",
      "[ 0  1  2  3  4  5  6 10]\n"
     ]
    }
   ],
   "source": [
    "import numpy as np\n",
    "\n",
    "x = np.arange(8) # 0 1 2 3 4 5 6 7\n",
    "y = x[0:4] # fist four elements. no step\n",
    "z = x[6: ] # from the sixth element to the last. no step\n",
    "\n",
    "print(x, y, z, sep = '\\n')\n",
    "print(x[:5:2])\n",
    "\n",
    "z[1] = 10 # replaces 7 with 10 in the original array (x)\n",
    "print(x)"
   ]
  },
  {
   "cell_type": "code",
   "execution_count": 51,
   "id": "0da81305",
   "metadata": {},
   "outputs": [
    {
     "name": "stdout",
     "output_type": "stream",
     "text": [
      "[12]\n",
      "[11 22  3]\n",
      "[13 25  5]\n",
      "[[20 22 23 25]\n",
      " [ 2  3  4  5]]\n"
     ]
    }
   ],
   "source": [
    "a = np.array([[10, 11, 12, 13], [20, 22, 23, 25], [2, 3, 4, 5]])\n",
    "print(a[0:1, 2]) #0-start dimension , 1-end dimension , 2-index\n",
    "print(a[..., 1]) # second item from all dimensions\n",
    "print(a[ : , 3])\n",
    "print(a[1:3, ])"
   ]
  },
  {
   "cell_type": "code",
   "execution_count": null,
   "id": "e8fee86b",
   "metadata": {},
   "outputs": [],
   "source": []
  }
 ],
 "metadata": {
  "kernelspec": {
   "display_name": "Python 3",
   "language": "python",
   "name": "python3"
  },
  "language_info": {
   "codemirror_mode": {
    "name": "ipython",
    "version": 3
   },
   "file_extension": ".py",
   "mimetype": "text/x-python",
   "name": "python",
   "nbconvert_exporter": "python",
   "pygments_lexer": "ipython3",
   "version": "3.8.8"
  }
 },
 "nbformat": 4,
 "nbformat_minor": 5
}
